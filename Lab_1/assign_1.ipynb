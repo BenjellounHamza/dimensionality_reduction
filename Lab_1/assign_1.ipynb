{
  "nbformat": 4,
  "nbformat_minor": 0,
  "metadata": {
    "colab": {
      "name": "Untitled",
      "provenance": [],
      "collapsed_sections": []
    },
    "kernelspec": {
      "display_name": "Python 3",
      "name": "python3"
    }
  },
  "cells": [
    {
      "cell_type": "code",
      "metadata": {
        "id": "xPEAcY5QNNgx"
      },
      "source": [
        "import pandas as pd\n",
        "from sklearn.decomposition import PCA\n",
        "import matplotlib.pyplot as plt\n",
        "import numpy as np\n",
        "from sklearn.datasets import load_digits\n",
        "from sklearn.manifold import MDS\n",
        "from numpy import linalg as lg\n",
        "from scipy.spatial import distance_matrix\n",
        "from sklearn.neighbors import kneighbors_graph\n",
        "from collections import defaultdict\n",
        "from sklearn.utils.graph_shortest_path import graph_shortest_path\n",
        "from sklearn.preprocessing import StandardScaler\n",
        "import plotly.express as px\n",
        "from sklearn.neighbors import KNeighborsRegressor\n",
        "from sklearn.inspection import permutation_importance\n",
        "from sklearn.ensemble import RandomForestRegressor\n",
        "from matplotlib import pyplot\n",
        "from numpy.linalg import svd "
      ],
      "execution_count": 1,
      "outputs": []
    },
    {
      "cell_type": "code",
      "metadata": {
        "id": "lBspexq582dL"
      },
      "source": [
        "class Graph:\n",
        "\n",
        "  def __init__(self, adjmatrix):\n",
        "    #graph can be defined by adjacency Matrix\n",
        "    self.adjmatrix = adjmatrix\n",
        "    #dictionary map each point to their neighbors.\n",
        "    self.adjdict = {}\n",
        "    for i, point in enumerate(self.adjmatrix):\n",
        "      self.adjdict[i] = [j for j in range(len(point)) if point[j] != 0]\n",
        "\n",
        "\n",
        "  def connected_components(self):\n",
        "    # compute connected componeents of the graph\n",
        "    visited = defaultdict(lambda: 0, {})\n",
        "    cc = []\n",
        "    for i in range(len(self.adjmatrix)):\n",
        "      if visited[i] == 0:\n",
        "        temp = []\n",
        "        cc.append(self.DFS(temp, i, visited))\n",
        "    return cc\n",
        "\n",
        "  def DFS(self, temp, i, visited):\n",
        "    visited[i] = 1\n",
        "    temp.append(i)\n",
        "    for j in self.adjdict[i]:\n",
        "      if visited[j] == 0:\n",
        "        # j is linked to 'point' and is not visited\n",
        "        self.DFS(temp, j, visited)\n",
        "    return temp\n",
        "    "
      ],
      "execution_count": 2,
      "outputs": []
    },
    {
      "cell_type": "markdown",
      "metadata": {
        "id": "4_ssjxqWYfqx"
      },
      "source": [
        "Processing data"
      ]
    },
    {
      "cell_type": "code",
      "metadata": {
        "id": "jUB2qhPq0org"
      },
      "source": [
        "data = pd.read_csv(\"zoo.data\", header=None)\n",
        "names = data.pop(0)\n",
        "type = data.pop(17).to_numpy()\n",
        "data = pd.get_dummies(data, columns = [13])\n",
        "data_centred = pd.DataFrame(StandardScaler().fit_transform(data))"
      ],
      "execution_count": 3,
      "outputs": []
    },
    {
      "cell_type": "code",
      "metadata": {
        "colab": {
          "base_uri": "https://localhost:8080/"
        },
        "id": "2MCeMVYVqO-z",
        "outputId": "78d998b7-cdb8-4fa6-a870-0888e4fc541e"
      },
      "source": [
        "# counting the duplicates \n",
        "columns = [col for col in data.columns]\n",
        "duplicated = data.pivot_table(index = columns, aggfunc ='size')\n",
        "max(duplicated)"
      ],
      "execution_count": 70,
      "outputs": [
        {
          "output_type": "execute_result",
          "data": {
            "text/plain": [
              "10"
            ]
          },
          "metadata": {
            "tags": []
          },
          "execution_count": 70
        }
      ]
    },
    {
      "cell_type": "code",
      "metadata": {
        "id": "sDF9Nri7GEeW"
      },
      "source": [
        "def plot(X, type):\n",
        "  df = pd.DataFrame(data = X,  \n",
        "                  columns = ['first ax', 'second ax']) \n",
        "  # plot different types with differents color.\n",
        "  mapping= {1: \"type_1\", 2: \"type_2\", 3:\"type_3\", 4:\"type_4\", 5:\"type_5\", 6:\"type_6\", 7:\"type_7\", 8: \"brown\"}\n",
        "  \n",
        "  fig = px.scatter(df, x='first ax', y='second ax', color= [mapping[t] for t in type])\n",
        "  fig.show()"
      ],
      "execution_count": 4,
      "outputs": []
    },
    {
      "cell_type": "markdown",
      "metadata": {
        "id": "LgTcxqwsTmId"
      },
      "source": [
        "**PCA with SVD**"
      ]
    },
    {
      "cell_type": "code",
      "metadata": {
        "colab": {
          "base_uri": "https://localhost:8080/",
          "height": 542
        },
        "id": "VeWMqPCQnBFt",
        "outputId": "d357586c-ee48-4d40-b042-57f0e88612ec"
      },
      "source": [
        "# apply SVD on centred data\n",
        "U, S, Vt = svd(np.transpose(data_centred), full_matrices=True)\n",
        "# extract the two principales componentes\n",
        "U_2 = U[:, [0, 1]]\n",
        "#transform data\n",
        "X_pca = np.dot(np.transpose(U_2), np.transpose(data_centred))\n",
        "plot(np.transpose(X_pca), type)"
      ],
      "execution_count": 5,
      "outputs": [
        {
          "output_type": "display_data",
          "data": {
            "text/html": [
              "<html>\n",
              "<head><meta charset=\"utf-8\" /></head>\n",
              "<body>\n",
              "    <div>\n",
              "            <script src=\"https://cdnjs.cloudflare.com/ajax/libs/mathjax/2.7.5/MathJax.js?config=TeX-AMS-MML_SVG\"></script><script type=\"text/javascript\">if (window.MathJax) {MathJax.Hub.Config({SVG: {font: \"STIX-Web\"}});}</script>\n",
              "                <script type=\"text/javascript\">window.PlotlyConfig = {MathJaxConfig: 'local'};</script>\n",
              "        <script src=\"https://cdn.plot.ly/plotly-latest.min.js\"></script>    \n",
              "            <div id=\"272bb6fa-a3c7-484c-a906-2d71dcbfc2d7\" class=\"plotly-graph-div\" style=\"height:525px; width:100%;\"></div>\n",
              "            <script type=\"text/javascript\">\n",
              "                \n",
              "                    window.PLOTLYENV=window.PLOTLYENV || {};\n",
              "                    \n",
              "                if (document.getElementById(\"272bb6fa-a3c7-484c-a906-2d71dcbfc2d7\")) {\n",
              "                    Plotly.newPlot(\n",
              "                        '272bb6fa-a3c7-484c-a906-2d71dcbfc2d7',\n",
              "                        [{\"hoverlabel\": {\"namelength\": 0}, \"hovertemplate\": \"color=type_1<br>first ax=%{x}<br>second ax=%{y}\", \"legendgroup\": \"color=type_1\", \"marker\": {\"color\": \"#636efa\", \"symbol\": \"circle\"}, \"mode\": \"markers\", \"name\": \"color=type_1\", \"showlegend\": true, \"type\": \"scatter\", \"x\": [-2.873729592139778, -3.1909874099343796, -2.873729592139778, -3.171664180974809, -3.1909874099343796, -3.4384352748919413, -2.6087416796298717, -3.171664180974809, -3.1909874099343796, -0.8851643905948867, -3.1909874099343796, -1.2338068856709425, -3.1909874099343796, -2.160905393157923, -3.4384352748919413, -1.9327807571599323, -2.906676268464903, -2.659228403507341, -3.171664180974809, -3.171664180974809, -3.171664180974809, -2.819252159835634, -2.6399051745477706, -3.171664180974809, -2.6399051745477706, -3.1909874099343796, -1.402350812401081, -3.171664180974809, -3.4384352748919413, -0.8851643905948867, -3.171664180974809, -3.419112045932371, -3.171664180974809, -3.4384352748919413, -1.3152102200505904, -1.6626598371857961, -1.698956339567925, -1.2338068856709425, -2.659228403507341, -2.230715345994963, -3.171664180974809], \"xaxis\": \"x\", \"y\": [-0.07115305636729083, 0.37456144830715665, -0.07115305636729083, -0.07822682719658339, 0.37456144830715665, 0.6949480544088593, 0.7744453594685354, -0.07822682719658339, 0.37456144830715665, -2.8860713821132196, 0.37456144830715665, 1.9276226004613666, 0.37456144830715665, 0.941053281198484, 0.6949480544088593, 1.0734549506005213, 0.7673715886392428, 0.44698498253754015, -0.07822682719658339, -0.07822682719658339, -0.07822682719658339, -0.7486637290364659, -0.005803292966199948, -0.07822682719658339, -0.005803292966199948, 0.37456144830715665, -0.21949400244034323, -0.07822682719658339, 0.6949480544088593, -2.8860713821132196, -0.07822682719658339, 0.24215977890511917, -0.07822682719658339, 0.6949480544088593, -2.6950066561936294, -1.0659698182707429, 1.1388047140016122, 1.9276226004613666, 0.44698498253754015, 1.0663811797712286, -0.07822682719658339], \"yaxis\": \"y\"}, {\"hoverlabel\": {\"namelength\": 0}, \"hovertemplate\": \"color=type_4<br>first ax=%{x}<br>second ax=%{y}\", \"legendgroup\": \"color=type_4\", \"marker\": {\"color\": \"#EF553B\", \"symbol\": \"circle\"}, \"mode\": \"markers\", \"name\": \"color=type_4\", \"showlegend\": true, \"type\": \"scatter\", \"x\": [1.6992804312644096, 1.4325093373472775, 1.6992804312644096, 1.6992804312644096, 1.1675214248373713, 1.6799572023048395, 1.6992804312644096, 1.1675214248373713, 1.6992804312644096, 1.6799572023048395, 1.6799572023048395, 1.5099066640534569, 1.1675214248373713], \"xaxis\": \"x\", \"y\": [-3.7860898351368717, -3.012914953531429, -3.7860898351368717, -3.7860898351368717, -3.858513369367255, -3.3333015596331315, -3.7860898351368717, -3.858513369367255, -3.7860898351368717, -3.3333015596331315, -3.3333015596331315, -4.149840282674002, -3.858513369367255], \"yaxis\": \"y\"}, {\"hoverlabel\": {\"namelength\": 0}, \"hovertemplate\": \"color=type_2<br>first ax=%{x}<br>second ax=%{y}\", \"legendgroup\": \"color=type_2\", \"marker\": {\"color\": \"#00cc96\", \"symbol\": \"circle\"}, \"mode\": \"markers\", \"name\": \"color=type_2\", \"showlegend\": true, \"type\": \"scatter\", \"x\": [1.9386215072424975, 2.2053926011596303, 1.9386215072424975, 2.538481393339236, 1.654310365773021, 2.5578046222988062, 2.2053926011596303, 1.7402431472626474, 2.18606937220006, 1.1891609118760387, 1.9386215072424975, 1.5608961619747839, 2.18606937220006, 1.2084841408356088, 2.5578046222988062, 2.5578046222988062, 2.18606937220006, 2.006722386912197, 1.6736335947325913, 2.18606937220006], \"xaxis\": \"x\", \"y\": [3.3125028272914268, 2.539327945685984, 3.3125028272914268, 2.3216793193498413, 2.919692686959341, 1.8688910438461013, 2.539327945685984, 1.7505100592262295, 2.992116221189724, 2.1308748004995857, 3.3125028272914268, 1.0076496231559633, 2.992116221189724, 1.6780865249958459, 1.8688910438461013, 1.8688910438461013, 2.992116221189724, 2.2492557851194577, 2.4669044114556002, 2.992116221189724], \"yaxis\": \"y\"}, {\"hoverlabel\": {\"namelength\": 0}, \"hovertemplate\": \"color=type_7<br>first ax=%{x}<br>second ax=%{y}\", \"legendgroup\": \"color=type_7\", \"marker\": {\"color\": \"#ab63fa\", \"symbol\": \"circle\"}, \"mode\": \"markers\", \"name\": \"color=type_7\", \"showlegend\": true, \"type\": \"scatter\", \"x\": [2.6434930845966877, 1.9861180134962713, 3.2107585718114677, 3.2107585718114677, 2.5330867926716696, 1.5223226046703382, 3.3382903449519485, 2.1721750034307115, 3.2941497383962424, 2.1721750034307115], \"xaxis\": \"x\", \"y\": [-1.5059780101771811, -1.2321240347289568, -0.9197207667916117, -0.9197207667916117, -1.5368426630539214, -0.1644120052304146, -2.4677418253238113, -0.13887250783024363, -1.6682242711028006, -0.13887250783024363], \"yaxis\": \"y\"}, {\"hoverlabel\": {\"namelength\": 0}, \"hovertemplate\": \"color=type_6<br>first ax=%{x}<br>second ax=%{y}\", \"legendgroup\": \"color=type_6\", \"marker\": {\"color\": \"#FFA15A\", \"symbol\": \"circle\"}, \"mode\": \"markers\", \"name\": \"color=type_6\", \"showlegend\": true, \"type\": \"scatter\", \"x\": [2.387028469506316, 2.8521779234032985, 2.2191348793710874, 2.124197505112564, 2.871501152362869, 2.124197505112564, 2.387028469506316, 2.4665827443286497], \"xaxis\": \"x\", \"y\": [1.1178216373952083, 1.9066395238549627, 2.1196901717402152, 2.09063047894526, 1.453851248351223, 2.09063047894526, 1.1178216373952083, 1.7993035656385123], \"yaxis\": \"y\"}, {\"hoverlabel\": {\"namelength\": 0}, \"hovertemplate\": \"color=type_5<br>first ax=%{x}<br>second ax=%{y}\", \"legendgroup\": \"color=type_5\", \"marker\": {\"color\": \"#19d3f3\", \"symbol\": \"circle\"}, \"mode\": \"markers\", \"name\": \"color=type_5\", \"showlegend\": true, \"type\": \"scatter\", \"x\": [0.33911281694302087, 0.6814980561591064, 0.04117822810799008, 0.3197895879834506], \"xaxis\": \"x\", \"y\": [-0.9112821394779256, -1.2026090527846733, -0.9183559103072181, -0.45849386397418546], \"yaxis\": \"y\"}, {\"hoverlabel\": {\"namelength\": 0}, \"hovertemplate\": \"color=type_3<br>first ax=%{x}<br>second ax=%{y}\", \"legendgroup\": \"color=type_3\", \"marker\": {\"color\": \"#FF6692\", \"symbol\": \"circle\"}, \"mode\": \"markers\", \"name\": \"color=type_3\", \"showlegend\": true, \"type\": \"scatter\", \"x\": [1.0409385384244918, 1.0627784403062297, 0.6985532992084064, -0.22798165244708396, -0.311233793031185], \"xaxis\": \"x\", \"y\": [-1.4835367990621904, -3.0546372486991866, -1.1922098857554426, 0.6752691384482278, -0.24791900846733533], \"yaxis\": \"y\"}],\n",
              "                        {\"legend\": {\"tracegroupgap\": 0}, \"margin\": {\"t\": 60}, \"template\": {\"data\": {\"bar\": [{\"error_x\": {\"color\": \"#2a3f5f\"}, \"error_y\": {\"color\": \"#2a3f5f\"}, \"marker\": {\"line\": {\"color\": \"#E5ECF6\", \"width\": 0.5}}, \"type\": \"bar\"}], \"barpolar\": [{\"marker\": {\"line\": {\"color\": \"#E5ECF6\", \"width\": 0.5}}, \"type\": \"barpolar\"}], \"carpet\": [{\"aaxis\": {\"endlinecolor\": \"#2a3f5f\", \"gridcolor\": \"white\", \"linecolor\": \"white\", \"minorgridcolor\": \"white\", \"startlinecolor\": \"#2a3f5f\"}, \"baxis\": {\"endlinecolor\": \"#2a3f5f\", \"gridcolor\": \"white\", \"linecolor\": \"white\", \"minorgridcolor\": \"white\", \"startlinecolor\": \"#2a3f5f\"}, \"type\": \"carpet\"}], \"choropleth\": [{\"colorbar\": {\"outlinewidth\": 0, \"ticks\": \"\"}, \"type\": \"choropleth\"}], \"contour\": [{\"colorbar\": {\"outlinewidth\": 0, \"ticks\": \"\"}, \"colorscale\": [[0.0, \"#0d0887\"], [0.1111111111111111, \"#46039f\"], [0.2222222222222222, \"#7201a8\"], [0.3333333333333333, \"#9c179e\"], [0.4444444444444444, \"#bd3786\"], [0.5555555555555556, \"#d8576b\"], [0.6666666666666666, \"#ed7953\"], [0.7777777777777778, \"#fb9f3a\"], [0.8888888888888888, \"#fdca26\"], [1.0, \"#f0f921\"]], \"type\": \"contour\"}], \"contourcarpet\": [{\"colorbar\": {\"outlinewidth\": 0, \"ticks\": \"\"}, \"type\": \"contourcarpet\"}], \"heatmap\": [{\"colorbar\": {\"outlinewidth\": 0, \"ticks\": \"\"}, \"colorscale\": [[0.0, \"#0d0887\"], [0.1111111111111111, \"#46039f\"], [0.2222222222222222, \"#7201a8\"], [0.3333333333333333, \"#9c179e\"], [0.4444444444444444, \"#bd3786\"], [0.5555555555555556, \"#d8576b\"], [0.6666666666666666, \"#ed7953\"], [0.7777777777777778, \"#fb9f3a\"], [0.8888888888888888, \"#fdca26\"], [1.0, \"#f0f921\"]], \"type\": \"heatmap\"}], \"heatmapgl\": [{\"colorbar\": {\"outlinewidth\": 0, \"ticks\": \"\"}, \"colorscale\": [[0.0, \"#0d0887\"], [0.1111111111111111, \"#46039f\"], [0.2222222222222222, \"#7201a8\"], [0.3333333333333333, \"#9c179e\"], [0.4444444444444444, \"#bd3786\"], [0.5555555555555556, \"#d8576b\"], [0.6666666666666666, \"#ed7953\"], [0.7777777777777778, \"#fb9f3a\"], [0.8888888888888888, \"#fdca26\"], [1.0, \"#f0f921\"]], \"type\": \"heatmapgl\"}], \"histogram\": [{\"marker\": {\"colorbar\": {\"outlinewidth\": 0, \"ticks\": \"\"}}, \"type\": \"histogram\"}], \"histogram2d\": [{\"colorbar\": {\"outlinewidth\": 0, \"ticks\": \"\"}, \"colorscale\": [[0.0, \"#0d0887\"], [0.1111111111111111, \"#46039f\"], [0.2222222222222222, \"#7201a8\"], [0.3333333333333333, \"#9c179e\"], [0.4444444444444444, \"#bd3786\"], [0.5555555555555556, \"#d8576b\"], [0.6666666666666666, \"#ed7953\"], [0.7777777777777778, \"#fb9f3a\"], [0.8888888888888888, \"#fdca26\"], [1.0, \"#f0f921\"]], \"type\": \"histogram2d\"}], \"histogram2dcontour\": [{\"colorbar\": {\"outlinewidth\": 0, \"ticks\": \"\"}, \"colorscale\": [[0.0, \"#0d0887\"], [0.1111111111111111, \"#46039f\"], [0.2222222222222222, \"#7201a8\"], [0.3333333333333333, \"#9c179e\"], [0.4444444444444444, \"#bd3786\"], [0.5555555555555556, \"#d8576b\"], [0.6666666666666666, \"#ed7953\"], [0.7777777777777778, \"#fb9f3a\"], [0.8888888888888888, \"#fdca26\"], [1.0, \"#f0f921\"]], \"type\": \"histogram2dcontour\"}], \"mesh3d\": [{\"colorbar\": {\"outlinewidth\": 0, \"ticks\": \"\"}, \"type\": \"mesh3d\"}], \"parcoords\": [{\"line\": {\"colorbar\": {\"outlinewidth\": 0, \"ticks\": \"\"}}, \"type\": \"parcoords\"}], \"pie\": [{\"automargin\": true, \"type\": \"pie\"}], \"scatter\": [{\"marker\": {\"colorbar\": {\"outlinewidth\": 0, \"ticks\": \"\"}}, \"type\": \"scatter\"}], \"scatter3d\": [{\"line\": {\"colorbar\": {\"outlinewidth\": 0, \"ticks\": \"\"}}, \"marker\": {\"colorbar\": {\"outlinewidth\": 0, \"ticks\": \"\"}}, \"type\": \"scatter3d\"}], \"scattercarpet\": [{\"marker\": {\"colorbar\": {\"outlinewidth\": 0, \"ticks\": \"\"}}, \"type\": \"scattercarpet\"}], \"scattergeo\": [{\"marker\": {\"colorbar\": {\"outlinewidth\": 0, \"ticks\": \"\"}}, \"type\": \"scattergeo\"}], \"scattergl\": [{\"marker\": {\"colorbar\": {\"outlinewidth\": 0, \"ticks\": \"\"}}, \"type\": \"scattergl\"}], \"scattermapbox\": [{\"marker\": {\"colorbar\": {\"outlinewidth\": 0, \"ticks\": \"\"}}, \"type\": \"scattermapbox\"}], \"scatterpolar\": [{\"marker\": {\"colorbar\": {\"outlinewidth\": 0, \"ticks\": \"\"}}, \"type\": \"scatterpolar\"}], \"scatterpolargl\": [{\"marker\": {\"colorbar\": {\"outlinewidth\": 0, \"ticks\": \"\"}}, \"type\": \"scatterpolargl\"}], \"scatterternary\": [{\"marker\": {\"colorbar\": {\"outlinewidth\": 0, \"ticks\": \"\"}}, \"type\": \"scatterternary\"}], \"surface\": [{\"colorbar\": {\"outlinewidth\": 0, \"ticks\": \"\"}, \"colorscale\": [[0.0, \"#0d0887\"], [0.1111111111111111, \"#46039f\"], [0.2222222222222222, \"#7201a8\"], [0.3333333333333333, \"#9c179e\"], [0.4444444444444444, \"#bd3786\"], [0.5555555555555556, \"#d8576b\"], [0.6666666666666666, \"#ed7953\"], [0.7777777777777778, \"#fb9f3a\"], [0.8888888888888888, \"#fdca26\"], [1.0, \"#f0f921\"]], \"type\": \"surface\"}], \"table\": [{\"cells\": {\"fill\": {\"color\": \"#EBF0F8\"}, \"line\": {\"color\": \"white\"}}, \"header\": {\"fill\": {\"color\": \"#C8D4E3\"}, \"line\": {\"color\": \"white\"}}, \"type\": \"table\"}]}, \"layout\": {\"annotationdefaults\": {\"arrowcolor\": \"#2a3f5f\", \"arrowhead\": 0, \"arrowwidth\": 1}, \"coloraxis\": {\"colorbar\": {\"outlinewidth\": 0, \"ticks\": \"\"}}, \"colorscale\": {\"diverging\": [[0, \"#8e0152\"], [0.1, \"#c51b7d\"], [0.2, \"#de77ae\"], [0.3, \"#f1b6da\"], [0.4, \"#fde0ef\"], [0.5, \"#f7f7f7\"], [0.6, \"#e6f5d0\"], [0.7, \"#b8e186\"], [0.8, \"#7fbc41\"], [0.9, \"#4d9221\"], [1, \"#276419\"]], \"sequential\": [[0.0, \"#0d0887\"], [0.1111111111111111, \"#46039f\"], [0.2222222222222222, \"#7201a8\"], [0.3333333333333333, \"#9c179e\"], [0.4444444444444444, \"#bd3786\"], [0.5555555555555556, \"#d8576b\"], [0.6666666666666666, \"#ed7953\"], [0.7777777777777778, \"#fb9f3a\"], [0.8888888888888888, \"#fdca26\"], [1.0, \"#f0f921\"]], \"sequentialminus\": [[0.0, \"#0d0887\"], [0.1111111111111111, \"#46039f\"], [0.2222222222222222, \"#7201a8\"], [0.3333333333333333, \"#9c179e\"], [0.4444444444444444, \"#bd3786\"], [0.5555555555555556, \"#d8576b\"], [0.6666666666666666, \"#ed7953\"], [0.7777777777777778, \"#fb9f3a\"], [0.8888888888888888, \"#fdca26\"], [1.0, \"#f0f921\"]]}, \"colorway\": [\"#636efa\", \"#EF553B\", \"#00cc96\", \"#ab63fa\", \"#FFA15A\", \"#19d3f3\", \"#FF6692\", \"#B6E880\", \"#FF97FF\", \"#FECB52\"], \"font\": {\"color\": \"#2a3f5f\"}, \"geo\": {\"bgcolor\": \"white\", \"lakecolor\": \"white\", \"landcolor\": \"#E5ECF6\", \"showlakes\": true, \"showland\": true, \"subunitcolor\": \"white\"}, \"hoverlabel\": {\"align\": \"left\"}, \"hovermode\": \"closest\", \"mapbox\": {\"style\": \"light\"}, \"paper_bgcolor\": \"white\", \"plot_bgcolor\": \"#E5ECF6\", \"polar\": {\"angularaxis\": {\"gridcolor\": \"white\", \"linecolor\": \"white\", \"ticks\": \"\"}, \"bgcolor\": \"#E5ECF6\", \"radialaxis\": {\"gridcolor\": \"white\", \"linecolor\": \"white\", \"ticks\": \"\"}}, \"scene\": {\"xaxis\": {\"backgroundcolor\": \"#E5ECF6\", \"gridcolor\": \"white\", \"gridwidth\": 2, \"linecolor\": \"white\", \"showbackground\": true, \"ticks\": \"\", \"zerolinecolor\": \"white\"}, \"yaxis\": {\"backgroundcolor\": \"#E5ECF6\", \"gridcolor\": \"white\", \"gridwidth\": 2, \"linecolor\": \"white\", \"showbackground\": true, \"ticks\": \"\", \"zerolinecolor\": \"white\"}, \"zaxis\": {\"backgroundcolor\": \"#E5ECF6\", \"gridcolor\": \"white\", \"gridwidth\": 2, \"linecolor\": \"white\", \"showbackground\": true, \"ticks\": \"\", \"zerolinecolor\": \"white\"}}, \"shapedefaults\": {\"line\": {\"color\": \"#2a3f5f\"}}, \"ternary\": {\"aaxis\": {\"gridcolor\": \"white\", \"linecolor\": \"white\", \"ticks\": \"\"}, \"baxis\": {\"gridcolor\": \"white\", \"linecolor\": \"white\", \"ticks\": \"\"}, \"bgcolor\": \"#E5ECF6\", \"caxis\": {\"gridcolor\": \"white\", \"linecolor\": \"white\", \"ticks\": \"\"}}, \"title\": {\"x\": 0.05}, \"xaxis\": {\"automargin\": true, \"gridcolor\": \"white\", \"linecolor\": \"white\", \"ticks\": \"\", \"title\": {\"standoff\": 15}, \"zerolinecolor\": \"white\", \"zerolinewidth\": 2}, \"yaxis\": {\"automargin\": true, \"gridcolor\": \"white\", \"linecolor\": \"white\", \"ticks\": \"\", \"title\": {\"standoff\": 15}, \"zerolinecolor\": \"white\", \"zerolinewidth\": 2}}}, \"xaxis\": {\"anchor\": \"y\", \"domain\": [0.0, 1.0], \"title\": {\"text\": \"first ax\"}}, \"yaxis\": {\"anchor\": \"x\", \"domain\": [0.0, 1.0], \"title\": {\"text\": \"second ax\"}}},\n",
              "                        {\"responsive\": true}\n",
              "                    ).then(function(){\n",
              "                            \n",
              "var gd = document.getElementById('272bb6fa-a3c7-484c-a906-2d71dcbfc2d7');\n",
              "var x = new MutationObserver(function (mutations, observer) {{\n",
              "        var display = window.getComputedStyle(gd).display;\n",
              "        if (!display || display === 'none') {{\n",
              "            console.log([gd, 'removed!']);\n",
              "            Plotly.purge(gd);\n",
              "            observer.disconnect();\n",
              "        }}\n",
              "}});\n",
              "\n",
              "// Listen for the removal of the full notebook cells\n",
              "var notebookContainer = gd.closest('#notebook-container');\n",
              "if (notebookContainer) {{\n",
              "    x.observe(notebookContainer, {childList: true});\n",
              "}}\n",
              "\n",
              "// Listen for the clearing of the current output cell\n",
              "var outputEl = gd.closest('.output');\n",
              "if (outputEl) {{\n",
              "    x.observe(outputEl, {childList: true});\n",
              "}}\n",
              "\n",
              "                        })\n",
              "                };\n",
              "                \n",
              "            </script>\n",
              "        </div>\n",
              "</body>\n",
              "</html>"
            ]
          },
          "metadata": {
            "tags": []
          }
        }
      ]
    },
    {
      "cell_type": "code",
      "metadata": {
        "colab": {
          "base_uri": "https://localhost:8080/"
        },
        "id": "zcAq4EnVpX0F",
        "outputId": "704bf2cc-8a6f-4752-c1b9-3dee803ed274"
      },
      "source": [
        "# Reconstruction error of PCA:\n",
        "X_reconstructed = np.dot(U_2, X_pca)\n",
        "X = np.transpose(np.array(data_centred))\n",
        "error_PCA = np.mean((X - X_reconstructed)**2)"
      ],
      "execution_count": 6,
      "outputs": [
        {
          "output_type": "execute_result",
          "data": {
            "text/plain": [
              "0.5477519861535181"
            ]
          },
          "metadata": {
            "tags": []
          },
          "execution_count": 6
        }
      ]
    },
    {
      "cell_type": "markdown",
      "metadata": {
        "id": "PTDNIYQTYqgh"
      },
      "source": [
        "Implemented pca in python"
      ]
    },
    {
      "cell_type": "code",
      "metadata": {
        "colab": {
          "base_uri": "https://localhost:8080/",
          "height": 542
        },
        "id": "c-IIaV64OOmX",
        "outputId": "2b78f2be-5229-48de-b200-817db29e5f0a"
      },
      "source": [
        "# Use implemented pca in python\n",
        "pca = PCA(n_components=2)\n",
        "principalComponents = pca.fit_transform(data_centred)\n",
        "plot(principalComponents, type)"
      ],
      "execution_count": 7,
      "outputs": [
        {
          "output_type": "display_data",
          "data": {
            "text/html": [
              "<html>\n",
              "<head><meta charset=\"utf-8\" /></head>\n",
              "<body>\n",
              "    <div>\n",
              "            <script src=\"https://cdnjs.cloudflare.com/ajax/libs/mathjax/2.7.5/MathJax.js?config=TeX-AMS-MML_SVG\"></script><script type=\"text/javascript\">if (window.MathJax) {MathJax.Hub.Config({SVG: {font: \"STIX-Web\"}});}</script>\n",
              "                <script type=\"text/javascript\">window.PlotlyConfig = {MathJaxConfig: 'local'};</script>\n",
              "        <script src=\"https://cdn.plot.ly/plotly-latest.min.js\"></script>    \n",
              "            <div id=\"c18c6586-1136-4f68-8c0a-d61ceebc39df\" class=\"plotly-graph-div\" style=\"height:525px; width:100%;\"></div>\n",
              "            <script type=\"text/javascript\">\n",
              "                \n",
              "                    window.PLOTLYENV=window.PLOTLYENV || {};\n",
              "                    \n",
              "                if (document.getElementById(\"c18c6586-1136-4f68-8c0a-d61ceebc39df\")) {\n",
              "                    Plotly.newPlot(\n",
              "                        'c18c6586-1136-4f68-8c0a-d61ceebc39df',\n",
              "                        [{\"hoverlabel\": {\"namelength\": 0}, \"hovertemplate\": \"color=type_1<br>first ax=%{x}<br>second ax=%{y}\", \"legendgroup\": \"color=type_1\", \"marker\": {\"color\": \"#636efa\", \"symbol\": \"circle\"}, \"mode\": \"markers\", \"name\": \"color=type_1\", \"showlegend\": true, \"type\": \"scatter\", \"x\": [2.8737295921397843, 3.1909874099343796, 2.873729592139779, 3.1716641809748074, 3.190987409934379, 3.4384352748919405, 2.608741679629872, 3.1716641809748083, 3.1909874099343782, 0.8851643905948847, 3.1909874099343782, 1.233806885670944, 3.1909874099343782, 2.1609053931579245, 3.4384352748919413, 1.9327807571599338, 2.906676268464903, 2.65922840350734, 3.1716641809748083, 3.1716641809748083, 3.1716641809748083, 2.8192521598356315, 2.63990517454777, 3.1716641809748083, 2.63990517454777, 3.1909874099343782, 1.4023508124010802, 3.1716641809748083, 3.4384352748919413, 0.8851643905948847, 3.1716641809748083, 3.4191120459323705, 3.1716641809748083, 3.4384352748919413, 1.3152102200505862, 1.6626598371857941, 1.6989563395679257, 1.233806885670944, 2.65922840350734, 2.230715345994964, 3.1716641809748083], \"xaxis\": \"x\", \"y\": [0.0711530563672935, -0.3745614483071537, 0.07115305636729631, 0.07822682719658576, -0.37456144830715143, -0.6949480544088548, -0.7744453594685299, 0.07822682719658658, -0.37456144830715266, 2.8860713821132182, -0.37456144830715266, -1.9276226004613635, -0.37456144830715266, -0.9410532811984793, -0.694948054408855, -1.0734549506005162, -0.767371588639239, -0.446984982537537, 0.07822682719658654, 0.07822682719658654, 0.07822682719658654, 0.7486637290364674, 0.0058032929662022404, 0.07822682719658654, 0.0058032929662022404, -0.37456144830715266, 0.2194940024403422, 0.07822682719658654, -0.694948054408855, 2.8860713821132182, 0.07822682719658654, -0.2421597789051158, 0.07822682719658654, -0.694948054408855, 2.6950066561936312, 1.065969818270743, -1.13880471400161, -1.9276226004613635, -0.446984982537537, -1.0663811797712255, 0.0782268271965865], \"yaxis\": \"y\"}, {\"hoverlabel\": {\"namelength\": 0}, \"hovertemplate\": \"color=type_4<br>first ax=%{x}<br>second ax=%{y}\", \"legendgroup\": \"color=type_4\", \"marker\": {\"color\": \"#EF553B\", \"symbol\": \"circle\"}, \"mode\": \"markers\", \"name\": \"color=type_4\", \"showlegend\": true, \"type\": \"scatter\", \"x\": [-1.6992804312644119, -1.4325093373472797, -1.6992804312644132, -1.6992804312644132, -1.167521424837375, -1.6799572023048426, -1.6992804312644134, -1.167521424837375, -1.6992804312644134, -1.6799572023048426, -1.6799572023048426, -1.5099066640534613, -1.167521424837375], \"xaxis\": \"x\", \"y\": [3.7860898351368655, 3.0129149535314244, 3.7860898351368655, 3.786089835136865, 3.858513369367249, 3.3333015596331257, 3.786089835136865, 3.858513369367249, 3.786089835136865, 3.3333015596331257, 3.3333015596331257, 4.149840282674, 3.858513369367249], \"yaxis\": \"y\"}, {\"hoverlabel\": {\"namelength\": 0}, \"hovertemplate\": \"color=type_2<br>first ax=%{x}<br>second ax=%{y}\", \"legendgroup\": \"color=type_2\", \"marker\": {\"color\": \"#00cc96\", \"symbol\": \"circle\"}, \"mode\": \"markers\", \"name\": \"color=type_2\", \"showlegend\": true, \"type\": \"scatter\", \"x\": [-1.9386215072424944, -2.2053926011596285, -1.9386215072424944, -2.538481393339232, -1.654310365773018, -2.5578046222988036, -2.2053926011596277, -1.7402431472626456, -2.1860693722000564, -1.1891609118760373, -1.9386215072424944, -1.5608961619747836, -2.1860693722000564, -1.2084841408356077, -2.5578046222988036, -2.5578046222988036, -2.1860693722000564, -2.0067223869121937, -1.673633594732589, -2.1860693722000564], \"xaxis\": \"x\", \"y\": [-3.312502827291431, -2.53932794568599, -3.312502827291431, -2.321679319349848, -2.919692686959345, -1.868891043846109, -2.53932794568599, -1.7505100592262364, -2.99211622118973, -2.130874800499592, -3.312502827291431, -1.007649623155971, -2.99211622118973, -1.678086524995852, -1.868891043846109, -1.868891043846109, -2.99211622118973, -2.2492557851194634, -2.4669044114556056, -2.99211622118973], \"yaxis\": \"y\"}, {\"hoverlabel\": {\"namelength\": 0}, \"hovertemplate\": \"color=type_7<br>first ax=%{x}<br>second ax=%{y}\", \"legendgroup\": \"color=type_7\", \"marker\": {\"color\": \"#ab63fa\", \"symbol\": \"circle\"}, \"mode\": \"markers\", \"name\": \"color=type_7\", \"showlegend\": true, \"type\": \"scatter\", \"x\": [-2.643493084596689, -1.9861180134962733, -3.210758571811467, -3.2107585718114677, -2.533086792671671, -1.5223226046703386, -3.3382903449519508, -2.172175003430711, -3.294149738396243, -2.17217500343071], \"xaxis\": \"x\", \"y\": [1.505978010177181, 1.232124034728956, 0.9197207667916157, 0.9197207667916156, 1.5368426630539196, 0.16441200523041544, 2.4677418253238117, 0.13887250783024357, 1.6682242711028026, 0.1388725078302438], \"yaxis\": \"y\"}, {\"hoverlabel\": {\"namelength\": 0}, \"hovertemplate\": \"color=type_6<br>first ax=%{x}<br>second ax=%{y}\", \"legendgroup\": \"color=type_6\", \"marker\": {\"color\": \"#FFA15A\", \"symbol\": \"circle\"}, \"mode\": \"markers\", \"name\": \"color=type_6\", \"showlegend\": true, \"type\": \"scatter\", \"x\": [-2.3870284695063133, -2.852177923403294, -2.219134879371085, -2.124197505112561, -2.871501152362865, -2.124197505112561, -2.387028469506313, -2.4665827443286483], \"xaxis\": \"x\", \"y\": [-1.1178216373952021, -1.9066395238549554, -2.1196901717402046, -2.0906304789452523, -1.4538512483512167, -2.0906304789452523, -1.1178216373952023, -1.7993035656385026], \"yaxis\": \"y\"}, {\"hoverlabel\": {\"namelength\": 0}, \"hovertemplate\": \"color=type_5<br>first ax=%{x}<br>second ax=%{y}\", \"legendgroup\": \"color=type_5\", \"marker\": {\"color\": \"#19d3f3\", \"symbol\": \"circle\"}, \"mode\": \"markers\", \"name\": \"color=type_5\", \"showlegend\": true, \"type\": \"scatter\", \"x\": [-0.33911281694302187, -0.6814980561591081, -0.04117822810799112, -0.3197895879834513], \"xaxis\": \"x\", \"y\": [0.9112821394779228, 1.2026090527846733, 0.9183559103072134, 0.45849386397418385], \"yaxis\": \"y\"}, {\"hoverlabel\": {\"namelength\": 0}, \"hovertemplate\": \"color=type_3<br>first ax=%{x}<br>second ax=%{y}\", \"legendgroup\": \"color=type_3\", \"marker\": {\"color\": \"#FF6692\", \"symbol\": \"circle\"}, \"mode\": \"markers\", \"name\": \"color=type_3\", \"showlegend\": true, \"type\": \"scatter\", \"x\": [-1.040938538424493, -1.062778440306233, -0.6985532992084069, 0.2279816524470848, 0.3112337930311848], \"xaxis\": \"x\", \"y\": [1.4835367990621877, 3.0546372486991853, 1.1922098857554377, -0.675269138448229, 0.24791900846733284], \"yaxis\": \"y\"}],\n",
              "                        {\"legend\": {\"tracegroupgap\": 0}, \"margin\": {\"t\": 60}, \"template\": {\"data\": {\"bar\": [{\"error_x\": {\"color\": \"#2a3f5f\"}, \"error_y\": {\"color\": \"#2a3f5f\"}, \"marker\": {\"line\": {\"color\": \"#E5ECF6\", \"width\": 0.5}}, \"type\": \"bar\"}], \"barpolar\": [{\"marker\": {\"line\": {\"color\": \"#E5ECF6\", \"width\": 0.5}}, \"type\": \"barpolar\"}], \"carpet\": [{\"aaxis\": {\"endlinecolor\": \"#2a3f5f\", \"gridcolor\": \"white\", \"linecolor\": \"white\", \"minorgridcolor\": \"white\", \"startlinecolor\": \"#2a3f5f\"}, \"baxis\": {\"endlinecolor\": \"#2a3f5f\", \"gridcolor\": \"white\", \"linecolor\": \"white\", \"minorgridcolor\": \"white\", \"startlinecolor\": \"#2a3f5f\"}, \"type\": \"carpet\"}], \"choropleth\": [{\"colorbar\": {\"outlinewidth\": 0, \"ticks\": \"\"}, \"type\": \"choropleth\"}], \"contour\": [{\"colorbar\": {\"outlinewidth\": 0, \"ticks\": \"\"}, \"colorscale\": [[0.0, \"#0d0887\"], [0.1111111111111111, \"#46039f\"], [0.2222222222222222, \"#7201a8\"], [0.3333333333333333, \"#9c179e\"], [0.4444444444444444, \"#bd3786\"], [0.5555555555555556, \"#d8576b\"], [0.6666666666666666, \"#ed7953\"], [0.7777777777777778, \"#fb9f3a\"], [0.8888888888888888, \"#fdca26\"], [1.0, \"#f0f921\"]], \"type\": \"contour\"}], \"contourcarpet\": [{\"colorbar\": {\"outlinewidth\": 0, \"ticks\": \"\"}, \"type\": \"contourcarpet\"}], \"heatmap\": [{\"colorbar\": {\"outlinewidth\": 0, \"ticks\": \"\"}, \"colorscale\": [[0.0, \"#0d0887\"], [0.1111111111111111, \"#46039f\"], [0.2222222222222222, \"#7201a8\"], [0.3333333333333333, \"#9c179e\"], [0.4444444444444444, \"#bd3786\"], [0.5555555555555556, \"#d8576b\"], [0.6666666666666666, \"#ed7953\"], [0.7777777777777778, \"#fb9f3a\"], [0.8888888888888888, \"#fdca26\"], [1.0, \"#f0f921\"]], \"type\": \"heatmap\"}], \"heatmapgl\": [{\"colorbar\": {\"outlinewidth\": 0, \"ticks\": \"\"}, \"colorscale\": [[0.0, \"#0d0887\"], [0.1111111111111111, \"#46039f\"], [0.2222222222222222, \"#7201a8\"], [0.3333333333333333, \"#9c179e\"], [0.4444444444444444, \"#bd3786\"], [0.5555555555555556, \"#d8576b\"], [0.6666666666666666, \"#ed7953\"], [0.7777777777777778, \"#fb9f3a\"], [0.8888888888888888, \"#fdca26\"], [1.0, \"#f0f921\"]], \"type\": \"heatmapgl\"}], \"histogram\": [{\"marker\": {\"colorbar\": {\"outlinewidth\": 0, \"ticks\": \"\"}}, \"type\": \"histogram\"}], \"histogram2d\": [{\"colorbar\": {\"outlinewidth\": 0, \"ticks\": \"\"}, \"colorscale\": [[0.0, \"#0d0887\"], [0.1111111111111111, \"#46039f\"], [0.2222222222222222, \"#7201a8\"], [0.3333333333333333, \"#9c179e\"], [0.4444444444444444, \"#bd3786\"], [0.5555555555555556, \"#d8576b\"], [0.6666666666666666, \"#ed7953\"], [0.7777777777777778, \"#fb9f3a\"], [0.8888888888888888, \"#fdca26\"], [1.0, \"#f0f921\"]], \"type\": \"histogram2d\"}], \"histogram2dcontour\": [{\"colorbar\": {\"outlinewidth\": 0, \"ticks\": \"\"}, \"colorscale\": [[0.0, \"#0d0887\"], [0.1111111111111111, \"#46039f\"], [0.2222222222222222, \"#7201a8\"], [0.3333333333333333, \"#9c179e\"], [0.4444444444444444, \"#bd3786\"], [0.5555555555555556, \"#d8576b\"], [0.6666666666666666, \"#ed7953\"], [0.7777777777777778, \"#fb9f3a\"], [0.8888888888888888, \"#fdca26\"], [1.0, \"#f0f921\"]], \"type\": \"histogram2dcontour\"}], \"mesh3d\": [{\"colorbar\": {\"outlinewidth\": 0, \"ticks\": \"\"}, \"type\": \"mesh3d\"}], \"parcoords\": [{\"line\": {\"colorbar\": {\"outlinewidth\": 0, \"ticks\": \"\"}}, \"type\": \"parcoords\"}], \"pie\": [{\"automargin\": true, \"type\": \"pie\"}], \"scatter\": [{\"marker\": {\"colorbar\": {\"outlinewidth\": 0, \"ticks\": \"\"}}, \"type\": \"scatter\"}], \"scatter3d\": [{\"line\": {\"colorbar\": {\"outlinewidth\": 0, \"ticks\": \"\"}}, \"marker\": {\"colorbar\": {\"outlinewidth\": 0, \"ticks\": \"\"}}, \"type\": \"scatter3d\"}], \"scattercarpet\": [{\"marker\": {\"colorbar\": {\"outlinewidth\": 0, \"ticks\": \"\"}}, \"type\": \"scattercarpet\"}], \"scattergeo\": [{\"marker\": {\"colorbar\": {\"outlinewidth\": 0, \"ticks\": \"\"}}, \"type\": \"scattergeo\"}], \"scattergl\": [{\"marker\": {\"colorbar\": {\"outlinewidth\": 0, \"ticks\": \"\"}}, \"type\": \"scattergl\"}], \"scattermapbox\": [{\"marker\": {\"colorbar\": {\"outlinewidth\": 0, \"ticks\": \"\"}}, \"type\": \"scattermapbox\"}], \"scatterpolar\": [{\"marker\": {\"colorbar\": {\"outlinewidth\": 0, \"ticks\": \"\"}}, \"type\": \"scatterpolar\"}], \"scatterpolargl\": [{\"marker\": {\"colorbar\": {\"outlinewidth\": 0, \"ticks\": \"\"}}, \"type\": \"scatterpolargl\"}], \"scatterternary\": [{\"marker\": {\"colorbar\": {\"outlinewidth\": 0, \"ticks\": \"\"}}, \"type\": \"scatterternary\"}], \"surface\": [{\"colorbar\": {\"outlinewidth\": 0, \"ticks\": \"\"}, \"colorscale\": [[0.0, \"#0d0887\"], [0.1111111111111111, \"#46039f\"], [0.2222222222222222, \"#7201a8\"], [0.3333333333333333, \"#9c179e\"], [0.4444444444444444, \"#bd3786\"], [0.5555555555555556, \"#d8576b\"], [0.6666666666666666, \"#ed7953\"], [0.7777777777777778, \"#fb9f3a\"], [0.8888888888888888, \"#fdca26\"], [1.0, \"#f0f921\"]], \"type\": \"surface\"}], \"table\": [{\"cells\": {\"fill\": {\"color\": \"#EBF0F8\"}, \"line\": {\"color\": \"white\"}}, \"header\": {\"fill\": {\"color\": \"#C8D4E3\"}, \"line\": {\"color\": \"white\"}}, \"type\": \"table\"}]}, \"layout\": {\"annotationdefaults\": {\"arrowcolor\": \"#2a3f5f\", \"arrowhead\": 0, \"arrowwidth\": 1}, \"coloraxis\": {\"colorbar\": {\"outlinewidth\": 0, \"ticks\": \"\"}}, \"colorscale\": {\"diverging\": [[0, \"#8e0152\"], [0.1, \"#c51b7d\"], [0.2, \"#de77ae\"], [0.3, \"#f1b6da\"], [0.4, \"#fde0ef\"], [0.5, \"#f7f7f7\"], [0.6, \"#e6f5d0\"], [0.7, \"#b8e186\"], [0.8, \"#7fbc41\"], [0.9, \"#4d9221\"], [1, \"#276419\"]], \"sequential\": [[0.0, \"#0d0887\"], [0.1111111111111111, \"#46039f\"], [0.2222222222222222, \"#7201a8\"], [0.3333333333333333, \"#9c179e\"], [0.4444444444444444, \"#bd3786\"], [0.5555555555555556, \"#d8576b\"], [0.6666666666666666, \"#ed7953\"], [0.7777777777777778, \"#fb9f3a\"], [0.8888888888888888, \"#fdca26\"], [1.0, \"#f0f921\"]], \"sequentialminus\": [[0.0, \"#0d0887\"], [0.1111111111111111, \"#46039f\"], [0.2222222222222222, \"#7201a8\"], [0.3333333333333333, \"#9c179e\"], [0.4444444444444444, \"#bd3786\"], [0.5555555555555556, \"#d8576b\"], [0.6666666666666666, \"#ed7953\"], [0.7777777777777778, \"#fb9f3a\"], [0.8888888888888888, \"#fdca26\"], [1.0, \"#f0f921\"]]}, \"colorway\": [\"#636efa\", \"#EF553B\", \"#00cc96\", \"#ab63fa\", \"#FFA15A\", \"#19d3f3\", \"#FF6692\", \"#B6E880\", \"#FF97FF\", \"#FECB52\"], \"font\": {\"color\": \"#2a3f5f\"}, \"geo\": {\"bgcolor\": \"white\", \"lakecolor\": \"white\", \"landcolor\": \"#E5ECF6\", \"showlakes\": true, \"showland\": true, \"subunitcolor\": \"white\"}, \"hoverlabel\": {\"align\": \"left\"}, \"hovermode\": \"closest\", \"mapbox\": {\"style\": \"light\"}, \"paper_bgcolor\": \"white\", \"plot_bgcolor\": \"#E5ECF6\", \"polar\": {\"angularaxis\": {\"gridcolor\": \"white\", \"linecolor\": \"white\", \"ticks\": \"\"}, \"bgcolor\": \"#E5ECF6\", \"radialaxis\": {\"gridcolor\": \"white\", \"linecolor\": \"white\", \"ticks\": \"\"}}, \"scene\": {\"xaxis\": {\"backgroundcolor\": \"#E5ECF6\", \"gridcolor\": \"white\", \"gridwidth\": 2, \"linecolor\": \"white\", \"showbackground\": true, \"ticks\": \"\", \"zerolinecolor\": \"white\"}, \"yaxis\": {\"backgroundcolor\": \"#E5ECF6\", \"gridcolor\": \"white\", \"gridwidth\": 2, \"linecolor\": \"white\", \"showbackground\": true, \"ticks\": \"\", \"zerolinecolor\": \"white\"}, \"zaxis\": {\"backgroundcolor\": \"#E5ECF6\", \"gridcolor\": \"white\", \"gridwidth\": 2, \"linecolor\": \"white\", \"showbackground\": true, \"ticks\": \"\", \"zerolinecolor\": \"white\"}}, \"shapedefaults\": {\"line\": {\"color\": \"#2a3f5f\"}}, \"ternary\": {\"aaxis\": {\"gridcolor\": \"white\", \"linecolor\": \"white\", \"ticks\": \"\"}, \"baxis\": {\"gridcolor\": \"white\", \"linecolor\": \"white\", \"ticks\": \"\"}, \"bgcolor\": \"#E5ECF6\", \"caxis\": {\"gridcolor\": \"white\", \"linecolor\": \"white\", \"ticks\": \"\"}}, \"title\": {\"x\": 0.05}, \"xaxis\": {\"automargin\": true, \"gridcolor\": \"white\", \"linecolor\": \"white\", \"ticks\": \"\", \"title\": {\"standoff\": 15}, \"zerolinecolor\": \"white\", \"zerolinewidth\": 2}, \"yaxis\": {\"automargin\": true, \"gridcolor\": \"white\", \"linecolor\": \"white\", \"ticks\": \"\", \"title\": {\"standoff\": 15}, \"zerolinecolor\": \"white\", \"zerolinewidth\": 2}}}, \"xaxis\": {\"anchor\": \"y\", \"domain\": [0.0, 1.0], \"title\": {\"text\": \"first ax\"}}, \"yaxis\": {\"anchor\": \"x\", \"domain\": [0.0, 1.0], \"title\": {\"text\": \"second ax\"}}},\n",
              "                        {\"responsive\": true}\n",
              "                    ).then(function(){\n",
              "                            \n",
              "var gd = document.getElementById('c18c6586-1136-4f68-8c0a-d61ceebc39df');\n",
              "var x = new MutationObserver(function (mutations, observer) {{\n",
              "        var display = window.getComputedStyle(gd).display;\n",
              "        if (!display || display === 'none') {{\n",
              "            console.log([gd, 'removed!']);\n",
              "            Plotly.purge(gd);\n",
              "            observer.disconnect();\n",
              "        }}\n",
              "}});\n",
              "\n",
              "// Listen for the removal of the full notebook cells\n",
              "var notebookContainer = gd.closest('#notebook-container');\n",
              "if (notebookContainer) {{\n",
              "    x.observe(notebookContainer, {childList: true});\n",
              "}}\n",
              "\n",
              "// Listen for the clearing of the current output cell\n",
              "var outputEl = gd.closest('.output');\n",
              "if (outputEl) {{\n",
              "    x.observe(outputEl, {childList: true});\n",
              "}}\n",
              "\n",
              "                        })\n",
              "                };\n",
              "                \n",
              "            </script>\n",
              "        </div>\n",
              "</body>\n",
              "</html>"
            ]
          },
          "metadata": {
            "tags": []
          }
        }
      ]
    },
    {
      "cell_type": "markdown",
      "metadata": {
        "id": "ve-_kocxRSAT"
      },
      "source": [
        "**My MDS**"
      ]
    },
    {
      "cell_type": "markdown",
      "metadata": {
        "id": "YBM9RR7FdcDy"
      },
      "source": [
        "Define features importance:"
      ]
    },
    {
      "cell_type": "code",
      "metadata": {
        "id": "SAK17TT9fzG-"
      },
      "source": [
        "def compute_weight(X, y):\n",
        "  # define the first model\n",
        "  model = KNeighborsRegressor()\n",
        "  # fit the model\n",
        "  model.fit(X, y)\n",
        "  # perform permutation importance\n",
        "  results = permutation_importance(model, X, y, scoring='neg_mean_squared_error')\n",
        "  # get the first importance\n",
        "  importance_1 = results.importances_mean\n",
        "\n",
        "  # define the second model\n",
        "  model = RandomForestRegressor()\n",
        "  # fit the model\n",
        "  model.fit(X, y)\n",
        "  # get the second importance\n",
        "  importance_2 = model.feature_importances_\n",
        "\n",
        "  #combine the two importances\n",
        "  importance = []\n",
        "  for i in range(len(importance_1)):\n",
        "    importance.append((abs(importance_1[i]) + abs(importance_2[i]))/2)\n",
        "  # summarize feature importance\n",
        "  for i, v in enumerate(importance):\n",
        "\t  print('Feature: %0d, Score: %.5f' % (i,v))\n",
        "  # plot feature importance\n",
        "  pyplot.bar([x for x in range(len(importance))], importance)\n",
        "  pyplot.show()\n",
        "  return importance"
      ],
      "execution_count": 67,
      "outputs": []
    },
    {
      "cell_type": "code",
      "metadata": {
        "colab": {
          "base_uri": "https://localhost:8080/",
          "height": 790
        },
        "id": "SUVfNZedRP_W",
        "outputId": "5d384550-2136-44b1-c4eb-2eb275999d82"
      },
      "source": [
        "def MDS(df, k, predef_distance = False, weighted = False):\n",
        "  if predef_distance:\n",
        "    # if we give distance to MDS\n",
        "    D = df\n",
        "  else:\n",
        "    #compute distances\n",
        "    if weighted:\n",
        "      #if we want to add importance of features to data\n",
        "      weight_data = df.copy()\n",
        "      importance = compute_weight(weight_data, type)\n",
        "      for i, imp in enumerate(importance):\n",
        "        weight_data[weight_data.columns[i]] = weight_data[weight_data.columns[i]].apply(lambda x: x * (imp + 1))\n",
        "      D = distance_matrix(weight_data.values, weight_data.values)\n",
        "    else:\n",
        "      D = distance_matrix(df.values, df.values)\n",
        "  n = len(D)\n",
        "  #compute S by double centring\n",
        "  ones = np.ones((n, n))\n",
        "  S = - (1/2) * (D - (1/n) * np.dot(D, ones) - (1/n) * np.dot(ones, D) + (1/n**2) * np.dot(ones, np.dot(D, ones)))\n",
        "  #EigenDecompostion\n",
        "  eigenvalues, eigenvectors = lg.eig(S)\n",
        "  eigenvalues, eigenvectors = np.abs(np.real(eigenvalues)), np.real(eigenvectors)\n",
        "  lambdas = np.sqrt(np.diag(eigenvalues))\n",
        "  X_mds = np.dot(np.eye(k, n), np.dot(lambdas, np.transpose(eigenvectors)))\n",
        "  return np.transpose(X_mds)\n",
        "X_mds = MDS(data, 2, False, True)\n",
        "plot(X_mds, type)"
      ],
      "execution_count": 14,
      "outputs": [
        {
          "output_type": "display_data",
          "data": {
            "image/png": "[encoded data removed]",
            "text/plain": [
              "<Figure size 432x288 with 1 Axes>"
            ]
          },
          "metadata": {
            "tags": [],
            "needs_background": "light"
          }
        },
        {
          "output_type": "display_data",
          "data": {
            "text/html": [
              "<html>\n",
              "<head><meta charset=\"utf-8\" /></head>\n",
              "<body>\n",
              "    <div>\n",
              "            <script src=\"https://cdnjs.cloudflare.com/ajax/libs/mathjax/2.7.5/MathJax.js?config=TeX-AMS-MML_SVG\"></script><script type=\"text/javascript\">if (window.MathJax) {MathJax.Hub.Config({SVG: {font: \"STIX-Web\"}});}</script>\n",
              "                <script type=\"text/javascript\">window.PlotlyConfig = {MathJaxConfig: 'local'};</script>\n",
              "        <script src=\"https://cdn.plot.ly/plotly-latest.min.js\"></script>    \n",
              "            <div id=\"947d5226-af7a-493d-95b2-a0f265a48c1a\" class=\"plotly-graph-div\" style=\"height:525px; width:100%;\"></div>\n",
              "            <script type=\"text/javascript\">\n",
              "                \n",
              "                    window.PLOTLYENV=window.PLOTLYENV || {};\n",
              "                    \n",
              "                if (document.getElementById(\"947d5226-af7a-493d-95b2-a0f265a48c1a\")) {\n",
              "                    Plotly.newPlot(\n",
              "                        '947d5226-af7a-493d-95b2-a0f265a48c1a',\n",
              "                        [{\"hoverlabel\": {\"namelength\": 0}, \"hovertemplate\": \"color=type_1<br>first ax=%{x}<br>second ax=%{y}\", \"legendgroup\": \"color=type_1\", \"marker\": {\"color\": \"#636efa\", \"symbol\": \"circle\"}, \"mode\": \"markers\", \"name\": \"color=type_1\", \"showlegend\": true, \"type\": \"scatter\", \"x\": [-0.6722127886984983, -0.8043736281633975, -0.6722127886984989, -0.8503336882520414, -0.8043736281633967, -0.7451327635323259, -0.496056321137766, -0.8503336882520414, -0.8043736281633967, -0.13953706008175723, -0.8043736281633967, -0.24394052866433705, -0.8043736281633967, -0.38839785336064847, -0.7451327635323259, -0.3947744347335448, -0.5822420515485364, -0.6154270837001066, -0.8503336882520414, -0.8503336882520414, -0.8503336882520414, -0.6367340947223797, -0.6248741155169809, -0.8503336882520418, -0.6248741155169812, -0.8043736281633967, -0.260231945201269, -0.8503336882520414, -0.7451327635323259, -0.13953706008175723, -0.8503336882520414, -0.7316069089795728, -0.8503336882520414, -0.7451327635323259, -0.25403493265083743, -0.3101635807437143, -0.3407031543351593, -0.24394052866433705, -0.6154270837001066, -0.46506167038430324, -0.8503336882520413], \"xaxis\": \"x\", \"y\": [-0.005715981244248052, 0.11270580576833807, -0.005715981244247879, 0.004294113285644775, 0.11270580576833811, 0.13051350061104983, 0.11159978935055413, 0.004294113285644817, 0.11270580576833836, -0.5159429352626225, 0.11270580576833836, 0.3355626532638083, 0.11270580576833836, 0.11978454110610084, 0.13051350061104885, 0.19226559591757236, 0.12503905096830698, 0.10605592470104368, 0.004294113285644817, 0.004294113285644817, 0.004294113285644817, -0.13223691887395872, 0.00521346863829768, 0.004294113285644751, 0.005213468638297709, 0.11270580576833836, -0.026816536235729573, 0.004294113285644817, 0.13051350061104885, -0.5159429352626225, 0.004294113285644817, 0.02914945639517644, 0.004294113285644817, 0.13051350061104885, -0.4158445068548234, -0.15657276523323319, 0.21896283939523653, 0.3355626532638083, 0.10605592470104368, 0.20882172828026327, 0.004294113285644837], \"yaxis\": \"y\"}, {\"hoverlabel\": {\"namelength\": 0}, \"hovertemplate\": \"color=type_4<br>first ax=%{x}<br>second ax=%{y}\", \"legendgroup\": \"color=type_4\", \"marker\": {\"color\": \"#EF553B\", \"symbol\": \"circle\"}, \"mode\": \"markers\", \"name\": \"color=type_4\", \"showlegend\": true, \"type\": \"scatter\", \"x\": [0.43169640925596026, 0.3714533574364347, 0.4316964092559605, 0.4316964092559605, 0.3143637205018074, 0.41385269060122526, 0.4316964092559605, 0.3143637205018074, 0.4316964092559605, 0.41385269060122526, 0.4138526906012249, 0.30696497436289144, 0.3143637205018074], \"xaxis\": \"x\", \"y\": [-0.8829503436879902, -0.6134829672453572, -0.8829503436879901, -0.8829503436879901, -0.8250895314583137, -0.7248831865196887, -0.8829503436879901, -0.8250895314583137, -0.8829503436879901, -0.7248831865196887, -0.7248831865196887, -0.750409071612065, -0.8250895314583137], \"yaxis\": \"y\"}, {\"hoverlabel\": {\"namelength\": 0}, \"hovertemplate\": \"color=type_2<br>first ax=%{x}<br>second ax=%{y}\", \"legendgroup\": \"color=type_2\", \"marker\": {\"color\": \"#00cc96\", \"symbol\": \"circle\"}, \"mode\": \"markers\", \"name\": \"color=type_2\", \"showlegend\": true, \"type\": \"scatter\", \"x\": [0.5380951004881098, 0.56847617593344, 0.5380951004881098, 0.6075181037266894, 0.45319664853756064, 0.6164825511206634, 0.56847617593344, 0.48007088219200145, 0.5853119363198658, 0.37053768683155375, 0.5380951004881098, 0.4207554491633404, 0.5853119363198658, 0.368617053174737, 0.6164825511206634, 0.6164825511206634, 0.5853119363198658, 0.4949783018396456, 0.4465572180035501, 0.5853119363198658], \"xaxis\": \"x\", \"y\": [0.6632815623052397, 0.5608288617269167, 0.6632815623052397, 0.49552551634868164, 0.6131090290647712, 0.4063641630944691, 0.5608288617269167, 0.38747485812748367, 0.693162484448387, 0.4608164238116035, 0.6632815623052397, 0.21314231576888643, 0.693162484448387, 0.3628001597887944, 0.4063641630944691, 0.4063641630944691, 0.693162484448387, 0.4561773382626706, 0.5088868998583339, 0.6931624844483868], \"yaxis\": \"y\"}, {\"hoverlabel\": {\"namelength\": 0}, \"hovertemplate\": \"color=type_7<br>first ax=%{x}<br>second ax=%{y}\", \"legendgroup\": \"color=type_7\", \"marker\": {\"color\": \"#ab63fa\", \"symbol\": \"circle\"}, \"mode\": \"markers\", \"name\": \"color=type_7\", \"showlegend\": true, \"type\": \"scatter\", \"x\": [0.5393503792601287, 0.43635349047997446, 0.5858658676204185, 0.5858658676204185, 0.44691633199795383, 0.2713886811300822, 0.584277415561994, 0.5044321552220667, 0.5445108134175286, 0.5044321552220665], \"xaxis\": \"x\", \"y\": [-0.23168514466495957, -0.2152175516788571, -0.19988971587726684, -0.19988971587726684, -0.21661629485759715, 0.03644815297184448, -0.368306356150584, 0.0012641787029424058, -0.21767266174221062, 0.0012641787029424084], \"yaxis\": \"y\"}, {\"hoverlabel\": {\"namelength\": 0}, \"hovertemplate\": \"color=type_6<br>first ax=%{x}<br>second ax=%{y}\", \"legendgroup\": \"color=type_6\", \"marker\": {\"color\": \"#FFA15A\", \"symbol\": \"circle\"}, \"mode\": \"markers\", \"name\": \"color=type_6\", \"showlegend\": true, \"type\": \"scatter\", \"x\": [0.5008933519404883, 0.5509893104735022, 0.3808805424548262, 0.4126039054656727, 0.543506770089262, 0.4126039054656727, 0.5008933519404883, 0.40796330037348577], \"xaxis\": \"x\", \"y\": [0.16974619952383932, 0.2890274525977089, 0.29909316397062735, 0.323255778155655, 0.19490573304790584, 0.323255778155655, 0.16974619952383932, 0.28999963510086246], \"yaxis\": \"y\"}, {\"hoverlabel\": {\"namelength\": 0}, \"hovertemplate\": \"color=type_5<br>first ax=%{x}<br>second ax=%{y}\", \"legendgroup\": \"color=type_5\", \"marker\": {\"color\": \"#19d3f3\", \"symbol\": \"circle\"}, \"mode\": \"markers\", \"name\": \"color=type_5\", \"showlegend\": true, \"type\": \"scatter\", \"x\": [0.1588709768845601, 0.17303499821838053, 0.11942690309147105, 0.15715725316579268], \"xaxis\": \"x\", \"y\": [-0.24699795668908653, -0.252026574283188, -0.2536373641628683, -0.14734044444590516], \"yaxis\": \"y\"}, {\"hoverlabel\": {\"namelength\": 0}, \"hovertemplate\": \"color=type_3<br>first ax=%{x}<br>second ax=%{y}\", \"legendgroup\": \"color=type_3\", \"marker\": {\"color\": \"#FF6692\", \"symbol\": \"circle\"}, \"mode\": \"markers\", \"name\": \"color=type_3\", \"showlegend\": true, \"type\": \"scatter\", \"x\": [0.25378441866691714, 0.22249664449964712, 0.24503633409706183, 0.0726703933012195, 0.04018028226013919], \"xaxis\": \"x\", \"y\": [-0.2909786077000942, -0.5552584967596164, -0.2889954235002366, 0.15043032650959984, -0.10226844013873371], \"yaxis\": \"y\"}],\n",
              "                        {\"legend\": {\"tracegroupgap\": 0}, \"margin\": {\"t\": 60}, \"template\": {\"data\": {\"bar\": [{\"error_x\": {\"color\": \"#2a3f5f\"}, \"error_y\": {\"color\": \"#2a3f5f\"}, \"marker\": {\"line\": {\"color\": \"#E5ECF6\", \"width\": 0.5}}, \"type\": \"bar\"}], \"barpolar\": [{\"marker\": {\"line\": {\"color\": \"#E5ECF6\", \"width\": 0.5}}, \"type\": \"barpolar\"}], \"carpet\": [{\"aaxis\": {\"endlinecolor\": \"#2a3f5f\", \"gridcolor\": \"white\", \"linecolor\": \"white\", \"minorgridcolor\": \"white\", \"startlinecolor\": \"#2a3f5f\"}, \"baxis\": {\"endlinecolor\": \"#2a3f5f\", \"gridcolor\": \"white\", \"linecolor\": \"white\", \"minorgridcolor\": \"white\", \"startlinecolor\": \"#2a3f5f\"}, \"type\": \"carpet\"}], \"choropleth\": [{\"colorbar\": {\"outlinewidth\": 0, \"ticks\": \"\"}, \"type\": \"choropleth\"}], \"contour\": [{\"colorbar\": {\"outlinewidth\": 0, \"ticks\": \"\"}, \"colorscale\": [[0.0, \"#0d0887\"], [0.1111111111111111, \"#46039f\"], [0.2222222222222222, \"#7201a8\"], [0.3333333333333333, \"#9c179e\"], [0.4444444444444444, \"#bd3786\"], [0.5555555555555556, \"#d8576b\"], [0.6666666666666666, \"#ed7953\"], [0.7777777777777778, \"#fb9f3a\"], [0.8888888888888888, \"#fdca26\"], [1.0, \"#f0f921\"]], \"type\": \"contour\"}], \"contourcarpet\": [{\"colorbar\": {\"outlinewidth\": 0, \"ticks\": \"\"}, \"type\": \"contourcarpet\"}], \"heatmap\": [{\"colorbar\": {\"outlinewidth\": 0, \"ticks\": \"\"}, \"colorscale\": [[0.0, \"#0d0887\"], [0.1111111111111111, \"#46039f\"], [0.2222222222222222, \"#7201a8\"], [0.3333333333333333, \"#9c179e\"], [0.4444444444444444, \"#bd3786\"], [0.5555555555555556, \"#d8576b\"], [0.6666666666666666, \"#ed7953\"], [0.7777777777777778, \"#fb9f3a\"], [0.8888888888888888, \"#fdca26\"], [1.0, \"#f0f921\"]], \"type\": \"heatmap\"}], \"heatmapgl\": [{\"colorbar\": {\"outlinewidth\": 0, \"ticks\": \"\"}, \"colorscale\": [[0.0, \"#0d0887\"], [0.1111111111111111, \"#46039f\"], [0.2222222222222222, \"#7201a8\"], [0.3333333333333333, \"#9c179e\"], [0.4444444444444444, \"#bd3786\"], [0.5555555555555556, \"#d8576b\"], [0.6666666666666666, \"#ed7953\"], [0.7777777777777778, \"#fb9f3a\"], [0.8888888888888888, \"#fdca26\"], [1.0, \"#f0f921\"]], \"type\": \"heatmapgl\"}], \"histogram\": [{\"marker\": {\"colorbar\": {\"outlinewidth\": 0, \"ticks\": \"\"}}, \"type\": \"histogram\"}], \"histogram2d\": [{\"colorbar\": {\"outlinewidth\": 0, \"ticks\": \"\"}, \"colorscale\": [[0.0, \"#0d0887\"], [0.1111111111111111, \"#46039f\"], [0.2222222222222222, \"#7201a8\"], [0.3333333333333333, \"#9c179e\"], [0.4444444444444444, \"#bd3786\"], [0.5555555555555556, \"#d8576b\"], [0.6666666666666666, \"#ed7953\"], [0.7777777777777778, \"#fb9f3a\"], [0.8888888888888888, \"#fdca26\"], [1.0, \"#f0f921\"]], \"type\": \"histogram2d\"}], \"histogram2dcontour\": [{\"colorbar\": {\"outlinewidth\": 0, \"ticks\": \"\"}, \"colorscale\": [[0.0, \"#0d0887\"], [0.1111111111111111, \"#46039f\"], [0.2222222222222222, \"#7201a8\"], [0.3333333333333333, \"#9c179e\"], [0.4444444444444444, \"#bd3786\"], [0.5555555555555556, \"#d8576b\"], [0.6666666666666666, \"#ed7953\"], [0.7777777777777778, \"#fb9f3a\"], [0.8888888888888888, \"#fdca26\"], [1.0, \"#f0f921\"]], \"type\": \"histogram2dcontour\"}], \"mesh3d\": [{\"colorbar\": {\"outlinewidth\": 0, \"ticks\": \"\"}, \"type\": \"mesh3d\"}], \"parcoords\": [{\"line\": {\"colorbar\": {\"outlinewidth\": 0, \"ticks\": \"\"}}, \"type\": \"parcoords\"}], \"pie\": [{\"automargin\": true, \"type\": \"pie\"}], \"scatter\": [{\"marker\": {\"colorbar\": {\"outlinewidth\": 0, \"ticks\": \"\"}}, \"type\": \"scatter\"}], \"scatter3d\": [{\"line\": {\"colorbar\": {\"outlinewidth\": 0, \"ticks\": \"\"}}, \"marker\": {\"colorbar\": {\"outlinewidth\": 0, \"ticks\": \"\"}}, \"type\": \"scatter3d\"}], \"scattercarpet\": [{\"marker\": {\"colorbar\": {\"outlinewidth\": 0, \"ticks\": \"\"}}, \"type\": \"scattercarpet\"}], \"scattergeo\": [{\"marker\": {\"colorbar\": {\"outlinewidth\": 0, \"ticks\": \"\"}}, \"type\": \"scattergeo\"}], \"scattergl\": [{\"marker\": {\"colorbar\": {\"outlinewidth\": 0, \"ticks\": \"\"}}, \"type\": \"scattergl\"}], \"scattermapbox\": [{\"marker\": {\"colorbar\": {\"outlinewidth\": 0, \"ticks\": \"\"}}, \"type\": \"scattermapbox\"}], \"scatterpolar\": [{\"marker\": {\"colorbar\": {\"outlinewidth\": 0, \"ticks\": \"\"}}, \"type\": \"scatterpolar\"}], \"scatterpolargl\": [{\"marker\": {\"colorbar\": {\"outlinewidth\": 0, \"ticks\": \"\"}}, \"type\": \"scatterpolargl\"}], \"scatterternary\": [{\"marker\": {\"colorbar\": {\"outlinewidth\": 0, \"ticks\": \"\"}}, \"type\": \"scatterternary\"}], \"surface\": [{\"colorbar\": {\"outlinewidth\": 0, \"ticks\": \"\"}, \"colorscale\": [[0.0, \"#0d0887\"], [0.1111111111111111, \"#46039f\"], [0.2222222222222222, \"#7201a8\"], [0.3333333333333333, \"#9c179e\"], [0.4444444444444444, \"#bd3786\"], [0.5555555555555556, \"#d8576b\"], [0.6666666666666666, \"#ed7953\"], [0.7777777777777778, \"#fb9f3a\"], [0.8888888888888888, \"#fdca26\"], [1.0, \"#f0f921\"]], \"type\": \"surface\"}], \"table\": [{\"cells\": {\"fill\": {\"color\": \"#EBF0F8\"}, \"line\": {\"color\": \"white\"}}, \"header\": {\"fill\": {\"color\": \"#C8D4E3\"}, \"line\": {\"color\": \"white\"}}, \"type\": \"table\"}]}, \"layout\": {\"annotationdefaults\": {\"arrowcolor\": \"#2a3f5f\", \"arrowhead\": 0, \"arrowwidth\": 1}, \"coloraxis\": {\"colorbar\": {\"outlinewidth\": 0, \"ticks\": \"\"}}, \"colorscale\": {\"diverging\": [[0, \"#8e0152\"], [0.1, \"#c51b7d\"], [0.2, \"#de77ae\"], [0.3, \"#f1b6da\"], [0.4, \"#fde0ef\"], [0.5, \"#f7f7f7\"], [0.6, \"#e6f5d0\"], [0.7, \"#b8e186\"], [0.8, \"#7fbc41\"], [0.9, \"#4d9221\"], [1, \"#276419\"]], \"sequential\": [[0.0, \"#0d0887\"], [0.1111111111111111, \"#46039f\"], [0.2222222222222222, \"#7201a8\"], [0.3333333333333333, \"#9c179e\"], [0.4444444444444444, \"#bd3786\"], [0.5555555555555556, \"#d8576b\"], [0.6666666666666666, \"#ed7953\"], [0.7777777777777778, \"#fb9f3a\"], [0.8888888888888888, \"#fdca26\"], [1.0, \"#f0f921\"]], \"sequentialminus\": [[0.0, \"#0d0887\"], [0.1111111111111111, \"#46039f\"], [0.2222222222222222, \"#7201a8\"], [0.3333333333333333, \"#9c179e\"], [0.4444444444444444, \"#bd3786\"], [0.5555555555555556, \"#d8576b\"], [0.6666666666666666, \"#ed7953\"], [0.7777777777777778, \"#fb9f3a\"], [0.8888888888888888, \"#fdca26\"], [1.0, \"#f0f921\"]]}, \"colorway\": [\"#636efa\", \"#EF553B\", \"#00cc96\", \"#ab63fa\", \"#FFA15A\", \"#19d3f3\", \"#FF6692\", \"#B6E880\", \"#FF97FF\", \"#FECB52\"], \"font\": {\"color\": \"#2a3f5f\"}, \"geo\": {\"bgcolor\": \"white\", \"lakecolor\": \"white\", \"landcolor\": \"#E5ECF6\", \"showlakes\": true, \"showland\": true, \"subunitcolor\": \"white\"}, \"hoverlabel\": {\"align\": \"left\"}, \"hovermode\": \"closest\", \"mapbox\": {\"style\": \"light\"}, \"paper_bgcolor\": \"white\", \"plot_bgcolor\": \"#E5ECF6\", \"polar\": {\"angularaxis\": {\"gridcolor\": \"white\", \"linecolor\": \"white\", \"ticks\": \"\"}, \"bgcolor\": \"#E5ECF6\", \"radialaxis\": {\"gridcolor\": \"white\", \"linecolor\": \"white\", \"ticks\": \"\"}}, \"scene\": {\"xaxis\": {\"backgroundcolor\": \"#E5ECF6\", \"gridcolor\": \"white\", \"gridwidth\": 2, \"linecolor\": \"white\", \"showbackground\": true, \"ticks\": \"\", \"zerolinecolor\": \"white\"}, \"yaxis\": {\"backgroundcolor\": \"#E5ECF6\", \"gridcolor\": \"white\", \"gridwidth\": 2, \"linecolor\": \"white\", \"showbackground\": true, \"ticks\": \"\", \"zerolinecolor\": \"white\"}, \"zaxis\": {\"backgroundcolor\": \"#E5ECF6\", \"gridcolor\": \"white\", \"gridwidth\": 2, \"linecolor\": \"white\", \"showbackground\": true, \"ticks\": \"\", \"zerolinecolor\": \"white\"}}, \"shapedefaults\": {\"line\": {\"color\": \"#2a3f5f\"}}, \"ternary\": {\"aaxis\": {\"gridcolor\": \"white\", \"linecolor\": \"white\", \"ticks\": \"\"}, \"baxis\": {\"gridcolor\": \"white\", \"linecolor\": \"white\", \"ticks\": \"\"}, \"bgcolor\": \"#E5ECF6\", \"caxis\": {\"gridcolor\": \"white\", \"linecolor\": \"white\", \"ticks\": \"\"}}, \"title\": {\"x\": 0.05}, \"xaxis\": {\"automargin\": true, \"gridcolor\": \"white\", \"linecolor\": \"white\", \"ticks\": \"\", \"title\": {\"standoff\": 15}, \"zerolinecolor\": \"white\", \"zerolinewidth\": 2}, \"yaxis\": {\"automargin\": true, \"gridcolor\": \"white\", \"linecolor\": \"white\", \"ticks\": \"\", \"title\": {\"standoff\": 15}, \"zerolinecolor\": \"white\", \"zerolinewidth\": 2}}}, \"xaxis\": {\"anchor\": \"y\", \"domain\": [0.0, 1.0], \"title\": {\"text\": \"first ax\"}}, \"yaxis\": {\"anchor\": \"x\", \"domain\": [0.0, 1.0], \"title\": {\"text\": \"second ax\"}}},\n",
              "                        {\"responsive\": true}\n",
              "                    ).then(function(){\n",
              "                            \n",
              "var gd = document.getElementById('947d5226-af7a-493d-95b2-a0f265a48c1a');\n",
              "var x = new MutationObserver(function (mutations, observer) {{\n",
              "        var display = window.getComputedStyle(gd).display;\n",
              "        if (!display || display === 'none') {{\n",
              "            console.log([gd, 'removed!']);\n",
              "            Plotly.purge(gd);\n",
              "            observer.disconnect();\n",
              "        }}\n",
              "}});\n",
              "\n",
              "// Listen for the removal of the full notebook cells\n",
              "var notebookContainer = gd.closest('#notebook-container');\n",
              "if (notebookContainer) {{\n",
              "    x.observe(notebookContainer, {childList: true});\n",
              "}}\n",
              "\n",
              "// Listen for the clearing of the current output cell\n",
              "var outputEl = gd.closest('.output');\n",
              "if (outputEl) {{\n",
              "    x.observe(outputEl, {childList: true});\n",
              "}}\n",
              "\n",
              "                        })\n",
              "                };\n",
              "                \n",
              "            </script>\n",
              "        </div>\n",
              "</body>\n",
              "</html>"
            ]
          },
          "metadata": {
            "tags": []
          }
        }
      ]
    },
    {
      "cell_type": "markdown",
      "metadata": {
        "id": "pjtfDkXLmDT5"
      },
      "source": [
        "**Isomap**"
      ]
    },
    {
      "cell_type": "code",
      "metadata": {
        "colab": {
          "base_uri": "https://localhost:8080/",
          "height": 542
        },
        "id": "yTCpmg06mC0e",
        "outputId": "cf9f782c-5e19-46ca-b8ec-a9455659ccff"
      },
      "source": [
        "def isomap(df, p, k):\n",
        "  X = df.to_numpy()\n",
        "  graph = kneighbors_graph(X, p, mode='distance')\n",
        "  A = kneighbors_graph(X, p, mode='connectivity').toarray()\n",
        "  distances = graph_shortest_path(graph, directed = False, method = 'FW')\n",
        "  X = MDS(distances, k, True, False)\n",
        "  cc = Graph(A).connected_components()\n",
        "  if(len(cc) != 1):\n",
        "    print(\"The graph is disconnected. Therefore we will have\", len(cc), \"separated graphs\")\n",
        "  return X\n",
        "X_iso = isomap(data, 16, 2)\n",
        "plot(X_iso, type)"
      ],
      "execution_count": 69,
      "outputs": [
        {
          "output_type": "display_data",
          "data": {
            "text/html": [
              "<html>\n",
              "<head><meta charset=\"utf-8\" /></head>\n",
              "<body>\n",
              "    <div>\n",
              "            <script src=\"https://cdnjs.cloudflare.com/ajax/libs/mathjax/2.7.5/MathJax.js?config=TeX-AMS-MML_SVG\"></script><script type=\"text/javascript\">if (window.MathJax) {MathJax.Hub.Config({SVG: {font: \"STIX-Web\"}});}</script>\n",
              "                <script type=\"text/javascript\">window.PlotlyConfig = {MathJaxConfig: 'local'};</script>\n",
              "        <script src=\"https://cdn.plot.ly/plotly-latest.min.js\"></script>    \n",
              "            <div id=\"b9ccb037-bcbb-47e8-882f-bd77e14bee7c\" class=\"plotly-graph-div\" style=\"height:525px; width:100%;\"></div>\n",
              "            <script type=\"text/javascript\">\n",
              "                \n",
              "                    window.PLOTLYENV=window.PLOTLYENV || {};\n",
              "                    \n",
              "                if (document.getElementById(\"b9ccb037-bcbb-47e8-882f-bd77e14bee7c\")) {\n",
              "                    Plotly.newPlot(\n",
              "                        'b9ccb037-bcbb-47e8-882f-bd77e14bee7c',\n",
              "                        [{\"hoverlabel\": {\"namelength\": 0}, \"hovertemplate\": \"color=type_1<br>first ax=%{x}<br>second ax=%{y}\", \"legendgroup\": \"color=type_1\", \"marker\": {\"color\": \"#636efa\", \"symbol\": \"circle\"}, \"mode\": \"markers\", \"name\": \"color=type_1\", \"showlegend\": true, \"type\": \"scatter\", \"x\": [-1.0571899680560666, -0.914933864305677, -1.0541216350825202, -0.9400745134546119, -0.9272914009353969, -1.0351579481223132, -0.8031582389339883, -0.9480581448213179, -0.8956964810435931, -0.3124949097777291, -0.9292409349070201, -1.0710222584828235, -0.8913833296158057, -1.1308893445097132, -1.0232174361911341, -1.1262162330274512, -0.9851837194702545, -0.9095914282712896, -0.9016592857008018, -0.9343519650986196, -1.0002320630857167, -0.9700936174211917, -0.8342785047889112, -0.9985916174152623, -0.8451951628927987, -0.892628148070049, -0.5580516873782737, -0.9644439547988537, -1.0496355529799066, -0.3218067170485827, -0.9400745134546119, -1.1229383972168936, -0.9078772492759895, -1.0351579481223132, -0.870269838337375, -1.037120414501961, -1.07063328049779, -1.0710222584828235, -0.9735543692939695, -1.116900871714011, -0.9537605391287387], \"xaxis\": \"x\", \"y\": [-0.11615047617387916, -0.4232846838296947, -0.11544945512947109, -0.14907004406412896, -0.4256689343106934, -0.4802817743676016, -0.1764601449737115, -0.08125140713800563, -0.5204496689455222, 0.8510171191777647, -0.5333292375351797, -0.23360983404511199, -0.5277561727394905, 0.048780481590756056, -0.479147321520284, -0.10696593673249337, -0.36083591935717746, -0.21359169648976392, -0.1302612130022576, -0.14749254106826065, -0.11397279856226943, 0.3046152678319789, -0.0986792132476249, -0.10384503736621045, -0.17501238961148005, -0.5197486479011149, -0.07718346165405547, -0.1558339723613499, -0.4852666874103482, 0.8081021757688778, -0.1490700440641285, -0.14353335108537046, -0.1298181628537074, -0.48028177436760205, 0.732831160138989, 0.632276890534477, -0.15018530705608735, -0.23360983404511168, -0.33862135579645747, -0.18638742568814637, -0.07550873381578745], \"yaxis\": \"y\"}, {\"hoverlabel\": {\"namelength\": 0}, \"hovertemplate\": \"color=type_4<br>first ax=%{x}<br>second ax=%{y}\", \"legendgroup\": \"color=type_4\", \"marker\": {\"color\": \"#EF553B\", \"symbol\": \"circle\"}, \"mode\": \"markers\", \"name\": \"color=type_4\", \"showlegend\": true, \"type\": \"scatter\", \"x\": [0.3537379990990014, 0.39063256818409126, 0.3537379990990014, 0.4190116447072106, 0.322047437770385, 0.33632154057068764, 0.38050709522494286, 0.3201383895230546, 0.41780733282059307, 0.33632154057068764, 0.3381679867681064, 0.1877263814632985, 0.2130305143187839], \"xaxis\": \"x\", \"y\": [1.1274402318888403, 1.180147932704424, 1.1274402318888403, 1.1060429761082022, 1.15474217810378, 1.1183177688149066, 1.1349599157725905, 1.1483559375912995, 1.1000813250122514, 1.1183177688149066, 1.110658513086318, 1.3137837956099385, 1.1241103908170769], \"yaxis\": \"y\"}, {\"hoverlabel\": {\"namelength\": 0}, \"hovertemplate\": \"color=type_2<br>first ax=%{x}<br>second ax=%{y}\", \"legendgroup\": \"color=type_2\", \"marker\": {\"color\": \"#00cc96\", \"symbol\": \"circle\"}, \"mode\": \"markers\", \"name\": \"color=type_2\", \"showlegend\": true, \"type\": \"scatter\", \"x\": [0.9506675989943723, 0.9975140856799425, 0.9544397149854831, 1.0014876306707656, 0.7226348563079372, 0.9899562376847532, 0.9900505643563943, 0.7279096366021485, 0.8596384648379338, 0.6046454433088032, 0.9460255213244309, 0.8962558596223563, 1.019102279587685, 0.6860519089600817, 0.989956237684753, 0.989956237684753, 0.8543772840966913, 0.9060195342327283, 0.9300517466340676, 1.0191022795876847], \"xaxis\": \"x\", \"y\": [-0.8367248183516086, -0.6406046745747374, -0.8427852528949598, -0.8549287652083266, -0.9660257202479324, -0.6898137039204753, -0.6482401016095445, -0.38898548293343893, -0.8521082888554726, -0.8311259809243481, -0.8277249508181289, -0.5832485614741503, -0.7849551757556255, -0.6672628745106005, -0.6898137039204756, -0.6898137039204756, -0.8479357727536994, -1.0633654233897178, -0.7619700924652689, -0.7849551757556258], \"yaxis\": \"y\"}, {\"hoverlabel\": {\"namelength\": 0}, \"hovertemplate\": \"color=type_7<br>first ax=%{x}<br>second ax=%{y}\", \"legendgroup\": \"color=type_7\", \"marker\": {\"color\": \"#ab63fa\", \"symbol\": \"circle\"}, \"mode\": \"markers\", \"name\": \"color=type_7\", \"showlegend\": true, \"type\": \"scatter\", \"x\": [0.8396756516527459, 0.4138964804729068, 0.8787854439363186, 0.8787854439363186, 0.9674633135274922, 0.6915312103701647, 0.7889398653520321, 0.6165731912582599, 0.7005485192563684, 0.6165731912582596], \"xaxis\": \"x\", \"y\": [0.6475076199655848, 0.4362373952627, 0.33572128000958984, 0.33572128000958984, 0.5162074755939925, 0.08360117364781254, 0.987713648199779, 0.2543337620207802, 0.6479025196580579, 0.25433376202078006], \"yaxis\": \"y\"}, {\"hoverlabel\": {\"namelength\": 0}, \"hovertemplate\": \"color=type_6<br>first ax=%{x}<br>second ax=%{y}\", \"legendgroup\": \"color=type_6\", \"marker\": {\"color\": \"#FFA15A\", \"symbol\": \"circle\"}, \"mode\": \"markers\", \"name\": \"color=type_6\", \"showlegend\": true, \"type\": \"scatter\", \"x\": [0.6978322329279819, 1.0117028445126075, 0.5253157787040575, 0.9760368403650401, 1.097453558942359, 0.9760368403650401, 0.6978322329279817, 0.8715286112915096], \"xaxis\": \"x\", \"y\": [-0.10963565567501711, -0.34967268258872647, -0.5196177632417609, -0.38932169339704975, -0.20199495018751312, -0.38932169339704975, -0.10963565567501711, -0.4184250795230487], \"yaxis\": \"y\"}, {\"hoverlabel\": {\"namelength\": 0}, \"hovertemplate\": \"color=type_5<br>first ax=%{x}<br>second ax=%{y}\", \"legendgroup\": \"color=type_5\", \"marker\": {\"color\": \"#19d3f3\", \"symbol\": \"circle\"}, \"mode\": \"markers\", \"name\": \"color=type_5\", \"showlegend\": true, \"type\": \"scatter\", \"x\": [0.18709788361153215, 0.20384976280491718, 0.014450961409116331, 0.06423354849403848], \"xaxis\": \"x\", \"y\": [0.519555829699507, 0.6108844237684407, 0.4527288174250931, 0.32471630402833923], \"yaxis\": \"y\"}, {\"hoverlabel\": {\"namelength\": 0}, \"hovertemplate\": \"color=type_3<br>first ax=%{x}<br>second ax=%{y}\", \"legendgroup\": \"color=type_3\", \"marker\": {\"color\": \"#FF6692\", \"symbol\": \"circle\"}, \"mode\": \"markers\", \"name\": \"color=type_3\", \"showlegend\": true, \"type\": \"scatter\", \"x\": [0.33271727604057844, 0.4455081855384711, 0.4139198313369258, 0.07105797273560611, -0.05917848027808388], \"xaxis\": \"x\", \"y\": [0.6737906444171874, 1.1007086964289052, 0.519330494775974, -0.4610948214411834, 0.09570568953217531], \"yaxis\": \"y\"}],\n",
              "                        {\"legend\": {\"tracegroupgap\": 0}, \"margin\": {\"t\": 60}, \"template\": {\"data\": {\"bar\": [{\"error_x\": {\"color\": \"#2a3f5f\"}, \"error_y\": {\"color\": \"#2a3f5f\"}, \"marker\": {\"line\": {\"color\": \"#E5ECF6\", \"width\": 0.5}}, \"type\": \"bar\"}], \"barpolar\": [{\"marker\": {\"line\": {\"color\": \"#E5ECF6\", \"width\": 0.5}}, \"type\": \"barpolar\"}], \"carpet\": [{\"aaxis\": {\"endlinecolor\": \"#2a3f5f\", \"gridcolor\": \"white\", \"linecolor\": \"white\", \"minorgridcolor\": \"white\", \"startlinecolor\": \"#2a3f5f\"}, \"baxis\": {\"endlinecolor\": \"#2a3f5f\", \"gridcolor\": \"white\", \"linecolor\": \"white\", \"minorgridcolor\": \"white\", \"startlinecolor\": \"#2a3f5f\"}, \"type\": \"carpet\"}], \"choropleth\": [{\"colorbar\": {\"outlinewidth\": 0, \"ticks\": \"\"}, \"type\": \"choropleth\"}], \"contour\": [{\"colorbar\": {\"outlinewidth\": 0, \"ticks\": \"\"}, \"colorscale\": [[0.0, \"#0d0887\"], [0.1111111111111111, \"#46039f\"], [0.2222222222222222, \"#7201a8\"], [0.3333333333333333, \"#9c179e\"], [0.4444444444444444, \"#bd3786\"], [0.5555555555555556, \"#d8576b\"], [0.6666666666666666, \"#ed7953\"], [0.7777777777777778, \"#fb9f3a\"], [0.8888888888888888, \"#fdca26\"], [1.0, \"#f0f921\"]], \"type\": \"contour\"}], \"contourcarpet\": [{\"colorbar\": {\"outlinewidth\": 0, \"ticks\": \"\"}, \"type\": \"contourcarpet\"}], \"heatmap\": [{\"colorbar\": {\"outlinewidth\": 0, \"ticks\": \"\"}, \"colorscale\": [[0.0, \"#0d0887\"], [0.1111111111111111, \"#46039f\"], [0.2222222222222222, \"#7201a8\"], [0.3333333333333333, \"#9c179e\"], [0.4444444444444444, \"#bd3786\"], [0.5555555555555556, \"#d8576b\"], [0.6666666666666666, \"#ed7953\"], [0.7777777777777778, \"#fb9f3a\"], [0.8888888888888888, \"#fdca26\"], [1.0, \"#f0f921\"]], \"type\": \"heatmap\"}], \"heatmapgl\": [{\"colorbar\": {\"outlinewidth\": 0, \"ticks\": \"\"}, \"colorscale\": [[0.0, \"#0d0887\"], [0.1111111111111111, \"#46039f\"], [0.2222222222222222, \"#7201a8\"], [0.3333333333333333, \"#9c179e\"], [0.4444444444444444, \"#bd3786\"], [0.5555555555555556, \"#d8576b\"], [0.6666666666666666, \"#ed7953\"], [0.7777777777777778, \"#fb9f3a\"], [0.8888888888888888, \"#fdca26\"], [1.0, \"#f0f921\"]], \"type\": \"heatmapgl\"}], \"histogram\": [{\"marker\": {\"colorbar\": {\"outlinewidth\": 0, \"ticks\": \"\"}}, \"type\": \"histogram\"}], \"histogram2d\": [{\"colorbar\": {\"outlinewidth\": 0, \"ticks\": \"\"}, \"colorscale\": [[0.0, \"#0d0887\"], [0.1111111111111111, \"#46039f\"], [0.2222222222222222, \"#7201a8\"], [0.3333333333333333, \"#9c179e\"], [0.4444444444444444, \"#bd3786\"], [0.5555555555555556, \"#d8576b\"], [0.6666666666666666, \"#ed7953\"], [0.7777777777777778, \"#fb9f3a\"], [0.8888888888888888, \"#fdca26\"], [1.0, \"#f0f921\"]], \"type\": \"histogram2d\"}], \"histogram2dcontour\": [{\"colorbar\": {\"outlinewidth\": 0, \"ticks\": \"\"}, \"colorscale\": [[0.0, \"#0d0887\"], [0.1111111111111111, \"#46039f\"], [0.2222222222222222, \"#7201a8\"], [0.3333333333333333, \"#9c179e\"], [0.4444444444444444, \"#bd3786\"], [0.5555555555555556, \"#d8576b\"], [0.6666666666666666, \"#ed7953\"], [0.7777777777777778, \"#fb9f3a\"], [0.8888888888888888, \"#fdca26\"], [1.0, \"#f0f921\"]], \"type\": \"histogram2dcontour\"}], \"mesh3d\": [{\"colorbar\": {\"outlinewidth\": 0, \"ticks\": \"\"}, \"type\": \"mesh3d\"}], \"parcoords\": [{\"line\": {\"colorbar\": {\"outlinewidth\": 0, \"ticks\": \"\"}}, \"type\": \"parcoords\"}], \"pie\": [{\"automargin\": true, \"type\": \"pie\"}], \"scatter\": [{\"marker\": {\"colorbar\": {\"outlinewidth\": 0, \"ticks\": \"\"}}, \"type\": \"scatter\"}], \"scatter3d\": [{\"line\": {\"colorbar\": {\"outlinewidth\": 0, \"ticks\": \"\"}}, \"marker\": {\"colorbar\": {\"outlinewidth\": 0, \"ticks\": \"\"}}, \"type\": \"scatter3d\"}], \"scattercarpet\": [{\"marker\": {\"colorbar\": {\"outlinewidth\": 0, \"ticks\": \"\"}}, \"type\": \"scattercarpet\"}], \"scattergeo\": [{\"marker\": {\"colorbar\": {\"outlinewidth\": 0, \"ticks\": \"\"}}, \"type\": \"scattergeo\"}], \"scattergl\": [{\"marker\": {\"colorbar\": {\"outlinewidth\": 0, \"ticks\": \"\"}}, \"type\": \"scattergl\"}], \"scattermapbox\": [{\"marker\": {\"colorbar\": {\"outlinewidth\": 0, \"ticks\": \"\"}}, \"type\": \"scattermapbox\"}], \"scatterpolar\": [{\"marker\": {\"colorbar\": {\"outlinewidth\": 0, \"ticks\": \"\"}}, \"type\": \"scatterpolar\"}], \"scatterpolargl\": [{\"marker\": {\"colorbar\": {\"outlinewidth\": 0, \"ticks\": \"\"}}, \"type\": \"scatterpolargl\"}], \"scatterternary\": [{\"marker\": {\"colorbar\": {\"outlinewidth\": 0, \"ticks\": \"\"}}, \"type\": \"scatterternary\"}], \"surface\": [{\"colorbar\": {\"outlinewidth\": 0, \"ticks\": \"\"}, \"colorscale\": [[0.0, \"#0d0887\"], [0.1111111111111111, \"#46039f\"], [0.2222222222222222, \"#7201a8\"], [0.3333333333333333, \"#9c179e\"], [0.4444444444444444, \"#bd3786\"], [0.5555555555555556, \"#d8576b\"], [0.6666666666666666, \"#ed7953\"], [0.7777777777777778, \"#fb9f3a\"], [0.8888888888888888, \"#fdca26\"], [1.0, \"#f0f921\"]], \"type\": \"surface\"}], \"table\": [{\"cells\": {\"fill\": {\"color\": \"#EBF0F8\"}, \"line\": {\"color\": \"white\"}}, \"header\": {\"fill\": {\"color\": \"#C8D4E3\"}, \"line\": {\"color\": \"white\"}}, \"type\": \"table\"}]}, \"layout\": {\"annotationdefaults\": {\"arrowcolor\": \"#2a3f5f\", \"arrowhead\": 0, \"arrowwidth\": 1}, \"coloraxis\": {\"colorbar\": {\"outlinewidth\": 0, \"ticks\": \"\"}}, \"colorscale\": {\"diverging\": [[0, \"#8e0152\"], [0.1, \"#c51b7d\"], [0.2, \"#de77ae\"], [0.3, \"#f1b6da\"], [0.4, \"#fde0ef\"], [0.5, \"#f7f7f7\"], [0.6, \"#e6f5d0\"], [0.7, \"#b8e186\"], [0.8, \"#7fbc41\"], [0.9, \"#4d9221\"], [1, \"#276419\"]], \"sequential\": [[0.0, \"#0d0887\"], [0.1111111111111111, \"#46039f\"], [0.2222222222222222, \"#7201a8\"], [0.3333333333333333, \"#9c179e\"], [0.4444444444444444, \"#bd3786\"], [0.5555555555555556, \"#d8576b\"], [0.6666666666666666, \"#ed7953\"], [0.7777777777777778, \"#fb9f3a\"], [0.8888888888888888, \"#fdca26\"], [1.0, \"#f0f921\"]], \"sequentialminus\": [[0.0, \"#0d0887\"], [0.1111111111111111, \"#46039f\"], [0.2222222222222222, \"#7201a8\"], [0.3333333333333333, \"#9c179e\"], [0.4444444444444444, \"#bd3786\"], [0.5555555555555556, \"#d8576b\"], [0.6666666666666666, \"#ed7953\"], [0.7777777777777778, \"#fb9f3a\"], [0.8888888888888888, \"#fdca26\"], [1.0, \"#f0f921\"]]}, \"colorway\": [\"#636efa\", \"#EF553B\", \"#00cc96\", \"#ab63fa\", \"#FFA15A\", \"#19d3f3\", \"#FF6692\", \"#B6E880\", \"#FF97FF\", \"#FECB52\"], \"font\": {\"color\": \"#2a3f5f\"}, \"geo\": {\"bgcolor\": \"white\", \"lakecolor\": \"white\", \"landcolor\": \"#E5ECF6\", \"showlakes\": true, \"showland\": true, \"subunitcolor\": \"white\"}, \"hoverlabel\": {\"align\": \"left\"}, \"hovermode\": \"closest\", \"mapbox\": {\"style\": \"light\"}, \"paper_bgcolor\": \"white\", \"plot_bgcolor\": \"#E5ECF6\", \"polar\": {\"angularaxis\": {\"gridcolor\": \"white\", \"linecolor\": \"white\", \"ticks\": \"\"}, \"bgcolor\": \"#E5ECF6\", \"radialaxis\": {\"gridcolor\": \"white\", \"linecolor\": \"white\", \"ticks\": \"\"}}, \"scene\": {\"xaxis\": {\"backgroundcolor\": \"#E5ECF6\", \"gridcolor\": \"white\", \"gridwidth\": 2, \"linecolor\": \"white\", \"showbackground\": true, \"ticks\": \"\", \"zerolinecolor\": \"white\"}, \"yaxis\": {\"backgroundcolor\": \"#E5ECF6\", \"gridcolor\": \"white\", \"gridwidth\": 2, \"linecolor\": \"white\", \"showbackground\": true, \"ticks\": \"\", \"zerolinecolor\": \"white\"}, \"zaxis\": {\"backgroundcolor\": \"#E5ECF6\", \"gridcolor\": \"white\", \"gridwidth\": 2, \"linecolor\": \"white\", \"showbackground\": true, \"ticks\": \"\", \"zerolinecolor\": \"white\"}}, \"shapedefaults\": {\"line\": {\"color\": \"#2a3f5f\"}}, \"ternary\": {\"aaxis\": {\"gridcolor\": \"white\", \"linecolor\": \"white\", \"ticks\": \"\"}, \"baxis\": {\"gridcolor\": \"white\", \"linecolor\": \"white\", \"ticks\": \"\"}, \"bgcolor\": \"#E5ECF6\", \"caxis\": {\"gridcolor\": \"white\", \"linecolor\": \"white\", \"ticks\": \"\"}}, \"title\": {\"x\": 0.05}, \"xaxis\": {\"automargin\": true, \"gridcolor\": \"white\", \"linecolor\": \"white\", \"ticks\": \"\", \"title\": {\"standoff\": 15}, \"zerolinecolor\": \"white\", \"zerolinewidth\": 2}, \"yaxis\": {\"automargin\": true, \"gridcolor\": \"white\", \"linecolor\": \"white\", \"ticks\": \"\", \"title\": {\"standoff\": 15}, \"zerolinecolor\": \"white\", \"zerolinewidth\": 2}}}, \"xaxis\": {\"anchor\": \"y\", \"domain\": [0.0, 1.0], \"title\": {\"text\": \"first ax\"}}, \"yaxis\": {\"anchor\": \"x\", \"domain\": [0.0, 1.0], \"title\": {\"text\": \"second ax\"}}},\n",
              "                        {\"responsive\": true}\n",
              "                    ).then(function(){\n",
              "                            \n",
              "var gd = document.getElementById('b9ccb037-bcbb-47e8-882f-bd77e14bee7c');\n",
              "var x = new MutationObserver(function (mutations, observer) {{\n",
              "        var display = window.getComputedStyle(gd).display;\n",
              "        if (!display || display === 'none') {{\n",
              "            console.log([gd, 'removed!']);\n",
              "            Plotly.purge(gd);\n",
              "            observer.disconnect();\n",
              "        }}\n",
              "}});\n",
              "\n",
              "// Listen for the removal of the full notebook cells\n",
              "var notebookContainer = gd.closest('#notebook-container');\n",
              "if (notebookContainer) {{\n",
              "    x.observe(notebookContainer, {childList: true});\n",
              "}}\n",
              "\n",
              "// Listen for the clearing of the current output cell\n",
              "var outputEl = gd.closest('.output');\n",
              "if (outputEl) {{\n",
              "    x.observe(outputEl, {childList: true});\n",
              "}}\n",
              "\n",
              "                        })\n",
              "                };\n",
              "                \n",
              "            </script>\n",
              "        </div>\n",
              "</body>\n",
              "</html>"
            ]
          },
          "metadata": {
            "tags": []
          }
        }
      ]
    },
    {
      "cell_type": "markdown",
      "metadata": {
        "id": "8xKWD4KmaFSf"
      },
      "source": [
        "**Compute error**\n",
        "As we demonstrate in the exercice number 5, PCA and classical MDS are equivalent. We will compare just PCA and Isomap. The problem is that PCA try to keep the euclidean distance between points constant. However Isomap try to keep the geodesic distance between points constant. So let first compare the two models by computing the geodisc error."
      ]
    },
    {
      "cell_type": "code",
      "metadata": {
        "id": "unRZDtxyc-_u",
        "colab": {
          "base_uri": "https://localhost:8080/"
        },
        "outputId": "765bf5cd-c95b-4a3a-8bf7-3528b99bc48d"
      },
      "source": [
        "from sklearn.neighbors import NearestNeighbors\n",
        "\n",
        "#compute errors (compare isomap to pca)\n",
        "number_of_neighbors = 16\n",
        "\n",
        "X_iso = isomap(data, number_of_neighbors, 2)\n",
        "X_pca = pca.fit_transform(data_centred)\n",
        "X_mds = MDS(data, 2)\n",
        "\n",
        "nbrs = NearestNeighbors(n_neighbors=number_of_neighbors, algorithm='brute').fit(data)\n",
        "distances, indices = nbrs.kneighbors(data)\n",
        "\n",
        "nbrs = NearestNeighbors(n_neighbors=number_of_neighbors, algorithm='brute').fit(data_centred)\n",
        "distances, indices_centred = nbrs.kneighbors(data_centred)\n",
        "\n",
        "nbrs = NearestNeighbors(n_neighbors=number_of_neighbors, algorithm='brute').fit(X_iso)\n",
        "distances, indices_iso = nbrs.kneighbors(X_iso)\n",
        "\n",
        "nbrs = NearestNeighbors(n_neighbors=number_of_neighbors, algorithm='brute').fit(X_pca)\n",
        "distances, indices_pca = nbrs.kneighbors(X_pca)\n",
        "\n",
        "nbrs = NearestNeighbors(n_neighbors=number_of_neighbors, algorithm='brute').fit(X_mds)\n",
        "distances, indices_mds = nbrs.kneighbors(X_mds)\n",
        "\n",
        "error_iso = 0\n",
        "error_pca = 0\n",
        "error_mds = 0\n",
        "\n",
        "for i in range(len(indices)):\n",
        "  error_iso += len(set(indices[i]) - set(indices_iso[i]))\n",
        "  error_pca += len(set(indices_centred[i]) - set(indices_pca[i]))\n",
        "  error_mds += len(set(indices[i]) - set(indices_mds[i]))\n",
        "\n",
        "print(\"Local structure error:\")  \n",
        "print(\"isomap error = \", error_iso/(len(indices)*number_of_neighbors))\n",
        "print(\"mds error = \", error_mds/(len(indices)*number_of_neighbors))\n",
        "print(\"pca error = \", error_pca/(len(indices)*number_of_neighbors))"
      ],
      "execution_count": 66,
      "outputs": [
        {
          "output_type": "stream",
          "text": [
            "error using geodisc distance:\n",
            "isomap error =  0.30507425742574257\n",
            "mds error =  0.3316831683168317\n",
            "pca error =  0.32425742574257427\n"
          ],
          "name": "stdout"
        }
      ]
    }
  ]
}